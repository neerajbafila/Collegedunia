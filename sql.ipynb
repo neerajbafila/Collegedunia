{
 "cells": [
  {
   "cell_type": "code",
   "execution_count": 74,
   "id": "41a09691",
   "metadata": {},
   "outputs": [],
   "source": [
    "import sqlite3"
   ]
  },
  {
   "cell_type": "code",
   "execution_count": 75,
   "id": "259bc8f1",
   "metadata": {},
   "outputs": [],
   "source": [
    "import pandas as pd"
   ]
  },
  {
   "cell_type": "code",
   "execution_count": 2,
   "id": "9507e4ea",
   "metadata": {},
   "outputs": [],
   "source": [
    "con = sqlite3.connect('collageduniya.db')"
   ]
  },
  {
   "cell_type": "code",
   "execution_count": 8,
   "id": "72b48ff5",
   "metadata": {},
   "outputs": [],
   "source": [
    "cur = con.cursor()"
   ]
  },
  {
   "cell_type": "code",
   "execution_count": 12,
   "id": "8cb6a089",
   "metadata": {},
   "outputs": [],
   "source": [
    "query = '''CREATE TABLE IF NOT EXISTS customer (CustomerID  integer PRIMARY KEY, CName varchar(20), City varchar(20),\n",
    "Grade int,Salesman_id int)'''"
   ]
  },
  {
   "cell_type": "code",
   "execution_count": 13,
   "id": "8eef56ff",
   "metadata": {},
   "outputs": [
    {
     "data": {
      "text/plain": [
       "<sqlite3.Cursor at 0x20bdc091b90>"
      ]
     },
     "execution_count": 13,
     "metadata": {},
     "output_type": "execute_result"
    }
   ],
   "source": [
    "cur.execute(query)"
   ]
  },
  {
   "cell_type": "code",
   "execution_count": 14,
   "id": "162cdb81",
   "metadata": {},
   "outputs": [],
   "source": [
    "con.commit()"
   ]
  },
  {
   "cell_type": "code",
   "execution_count": 18,
   "id": "f0d867fd",
   "metadata": {},
   "outputs": [],
   "source": [
    "q = '''insert into customer values(3002, 'Shreya', 'Delhi', 100, 5001)'''"
   ]
  },
  {
   "cell_type": "code",
   "execution_count": 20,
   "id": "831307f4",
   "metadata": {},
   "outputs": [
    {
     "data": {
      "text/plain": [
       "<sqlite3.Cursor at 0x20bdc091b90>"
      ]
     },
     "execution_count": 20,
     "metadata": {},
     "output_type": "execute_result"
    }
   ],
   "source": [
    "cur.execute(q)"
   ]
  },
  {
   "cell_type": "code",
   "execution_count": 21,
   "id": "d08714e5",
   "metadata": {},
   "outputs": [],
   "source": [
    "con.commit()"
   ]
  },
  {
   "cell_type": "code",
   "execution_count": 25,
   "id": "6ec29ef8",
   "metadata": {},
   "outputs": [],
   "source": [
    "q = '''insert into customer values(3007, 'Suresh', 'Delhi', 200, 5001)'''\n",
    "\n",
    "cur.execute(q)\n",
    "\n",
    "con.commit()"
   ]
  },
  {
   "cell_type": "code",
   "execution_count": 33,
   "id": "95df1406",
   "metadata": {},
   "outputs": [],
   "source": [
    "# 3005, 'Deeksha', 'Bangalore', 200, 5002\n",
    "# 3008, 'Ragini', 'Mumbai', 300, 5002\n",
    "# 3004, 'Anshul', 'Hyderabad', 300, 5006\n",
    "# 3009, 'Tisha', 'Pune', 100, 5003"
   ]
  },
  {
   "cell_type": "code",
   "execution_count": 32,
   "id": "5a041237",
   "metadata": {},
   "outputs": [],
   "source": [
    "q = '''insert into customer values(3009, 'Tisha', 'Pune', 100, 5003)'''\n",
    "\n",
    "cur.execute(q)\n",
    "\n",
    "con.commit()"
   ]
  },
  {
   "cell_type": "code",
   "execution_count": 34,
   "id": "ee13ec49",
   "metadata": {},
   "outputs": [],
   "source": [
    "q = '''select * from customer'''"
   ]
  },
  {
   "cell_type": "code",
   "execution_count": 35,
   "id": "dbb07e7e",
   "metadata": {},
   "outputs": [
    {
     "data": {
      "text/plain": [
       "<sqlite3.Cursor at 0x20bdc091b90>"
      ]
     },
     "execution_count": 35,
     "metadata": {},
     "output_type": "execute_result"
    }
   ],
   "source": [
    "cur.execute(q)"
   ]
  },
  {
   "cell_type": "code",
   "execution_count": 36,
   "id": "b7b0ac30",
   "metadata": {},
   "outputs": [
    {
     "data": {
      "text/plain": [
       "[(3002, 'Shreya', 'Delhi', 100, 5001),\n",
       " (3004, 'Anshul', 'Hyderabad', 300, 5006),\n",
       " (3005, 'Deeksha', 'Bangalore', 200, 5002),\n",
       " (3007, 'Suresh', 'Delhi', 200, 5001),\n",
       " (3008, 'Ragini', 'Mumbai', 300, 5002),\n",
       " (3009, 'Tisha', 'Pune', 100, 5003)]"
      ]
     },
     "execution_count": 36,
     "metadata": {},
     "output_type": "execute_result"
    }
   ],
   "source": [
    "cur.fetchall()"
   ]
  },
  {
   "cell_type": "code",
   "execution_count": 37,
   "id": "0a581662",
   "metadata": {},
   "outputs": [],
   "source": [
    "query = '''CREATE TABLE IF NOT EXISTS Salesman (Salesman_id  integer PRIMARY KEY, SName  varchar(20), City varchar(20),\n",
    "Commission varchar)'''"
   ]
  },
  {
   "cell_type": "code",
   "execution_count": 38,
   "id": "b79cb1cb",
   "metadata": {},
   "outputs": [],
   "source": [
    "cur.execute(query)\n",
    "con.commit()"
   ]
  },
  {
   "cell_type": "code",
   "execution_count": null,
   "id": "f3822184",
   "metadata": {},
   "outputs": [],
   "source": [
    "# 5002, 'Rahul', 'Bangalore', 0.15\n",
    "# 5005, 'Manav', 'Hyderabad', 0.13\n",
    "# 5006, 'Akash', 'Hyderabad', 0.11\n",
    "# 5007, 'Riya', 'Delhi', 0.12\n",
    "# 5003, 'Mayank', 'Pune', 0.13"
   ]
  },
  {
   "cell_type": "code",
   "execution_count": 43,
   "id": "23bcb4d4",
   "metadata": {},
   "outputs": [],
   "source": [
    "q = '''insert into Salesman values(5003, 'Mayank', 'Pune', 0.13)'''\n",
    "\n",
    "cur.execute(q)\n",
    "\n",
    "con.commit()"
   ]
  },
  {
   "cell_type": "code",
   "execution_count": 44,
   "id": "44a4ac4c",
   "metadata": {},
   "outputs": [
    {
     "data": {
      "text/plain": [
       "[(5002, 'Rahul', 'Bangalore', '0.15'),\n",
       " (5003, 'Mayank', 'Pune', '0.13'),\n",
       " (5005, 'Manav', 'Hyderabad', '0.13'),\n",
       " (5006, 'Akash', 'Hyderabad', '0.11'),\n",
       " (5007, 'Riya', 'Delhi', '0.12')]"
      ]
     },
     "execution_count": 44,
     "metadata": {},
     "output_type": "execute_result"
    }
   ],
   "source": [
    "q = '''select * from Salesman'''\n",
    "\n",
    "cur.execute(q)\n",
    "\n",
    "cur.fetchall()"
   ]
  },
  {
   "cell_type": "markdown",
   "id": "868803f3",
   "metadata": {},
   "source": [
    "● From the following tables, write a SQL query to find the salespersons and\n",
    "customers who live in the same city. Return customer name, salesperson\n",
    "name and salesperson city."
   ]
  },
  {
   "cell_type": "code",
   "execution_count": 79,
   "id": "68c57204",
   "metadata": {},
   "outputs": [],
   "source": [
    "q = '''select c.CName as CustomerName, s.SName as SalespersonName, s.City as City \n",
    "from customer AS c join Salesman AS s on c.Salesman_id=s.Salesman_id'''"
   ]
  },
  {
   "cell_type": "code",
   "execution_count": 80,
   "id": "6cbc7caa",
   "metadata": {},
   "outputs": [
    {
     "data": {
      "text/html": [
       "<div>\n",
       "<style scoped>\n",
       "    .dataframe tbody tr th:only-of-type {\n",
       "        vertical-align: middle;\n",
       "    }\n",
       "\n",
       "    .dataframe tbody tr th {\n",
       "        vertical-align: top;\n",
       "    }\n",
       "\n",
       "    .dataframe thead th {\n",
       "        text-align: right;\n",
       "    }\n",
       "</style>\n",
       "<table border=\"1\" class=\"dataframe\">\n",
       "  <thead>\n",
       "    <tr style=\"text-align: right;\">\n",
       "      <th></th>\n",
       "      <th>CustomerName</th>\n",
       "      <th>SalespersonName</th>\n",
       "      <th>City</th>\n",
       "    </tr>\n",
       "  </thead>\n",
       "  <tbody>\n",
       "    <tr>\n",
       "      <th>0</th>\n",
       "      <td>Anshul</td>\n",
       "      <td>Akash</td>\n",
       "      <td>Hyderabad</td>\n",
       "    </tr>\n",
       "    <tr>\n",
       "      <th>1</th>\n",
       "      <td>Deeksha</td>\n",
       "      <td>Rahul</td>\n",
       "      <td>Bangalore</td>\n",
       "    </tr>\n",
       "    <tr>\n",
       "      <th>2</th>\n",
       "      <td>Ragini</td>\n",
       "      <td>Rahul</td>\n",
       "      <td>Bangalore</td>\n",
       "    </tr>\n",
       "    <tr>\n",
       "      <th>3</th>\n",
       "      <td>Tisha</td>\n",
       "      <td>Mayank</td>\n",
       "      <td>Pune</td>\n",
       "    </tr>\n",
       "  </tbody>\n",
       "</table>\n",
       "</div>"
      ],
      "text/plain": [
       "  CustomerName SalespersonName       City\n",
       "0       Anshul           Akash  Hyderabad\n",
       "1      Deeksha           Rahul  Bangalore\n",
       "2       Ragini           Rahul  Bangalore\n",
       "3        Tisha          Mayank       Pune"
      ]
     },
     "execution_count": 80,
     "metadata": {},
     "output_type": "execute_result"
    }
   ],
   "source": [
    "cur.execute(q)\n",
    "headers = list(map(lambda attr : attr[0], cur.description))\n",
    "results = [{header:row[i] for i, header in enumerate(headers)} for row in cur]\n",
    "opt = pd.DataFrame(results)\n",
    "cur.description\n",
    "# cur.fetchall()\n",
    "opt"
   ]
  },
  {
   "cell_type": "markdown",
   "id": "9f09cc00",
   "metadata": {},
   "source": [
    "● write a SQL query to find those salespeople who generated orders for their\n",
    "customers but not located in the same city. Return salesman_name,\n",
    "commission, cust_name, customer_id & salesman_id."
   ]
  },
  {
   "cell_type": "code",
   "execution_count": 86,
   "id": "a9751a4a",
   "metadata": {},
   "outputs": [],
   "source": [
    "q  = '''select s.SName as salesman_name, s.Commission as Commission, c.CName, s.Salesman_id as Salesman_id \n",
    "from Salesman as s join customer as c on c.Salesman_id=s.Salesman_id where s.City <> c.City'''"
   ]
  },
  {
   "cell_type": "code",
   "execution_count": 89,
   "id": "2d292991",
   "metadata": {},
   "outputs": [
    {
     "data": {
      "text/html": [
       "<div>\n",
       "<style scoped>\n",
       "    .dataframe tbody tr th:only-of-type {\n",
       "        vertical-align: middle;\n",
       "    }\n",
       "\n",
       "    .dataframe tbody tr th {\n",
       "        vertical-align: top;\n",
       "    }\n",
       "\n",
       "    .dataframe thead th {\n",
       "        text-align: right;\n",
       "    }\n",
       "</style>\n",
       "<table border=\"1\" class=\"dataframe\">\n",
       "  <thead>\n",
       "    <tr style=\"text-align: right;\">\n",
       "      <th></th>\n",
       "      <th>salesman_name</th>\n",
       "      <th>Commission</th>\n",
       "      <th>CName</th>\n",
       "      <th>Salesman_id</th>\n",
       "    </tr>\n",
       "  </thead>\n",
       "  <tbody>\n",
       "    <tr>\n",
       "      <th>0</th>\n",
       "      <td>Rahul</td>\n",
       "      <td>0.15</td>\n",
       "      <td>Ragini</td>\n",
       "      <td>5002</td>\n",
       "    </tr>\n",
       "  </tbody>\n",
       "</table>\n",
       "</div>"
      ],
      "text/plain": [
       "  salesman_name Commission   CName  Salesman_id\n",
       "0         Rahul       0.15  Ragini         5002"
      ]
     },
     "execution_count": 89,
     "metadata": {},
     "output_type": "execute_result"
    }
   ],
   "source": [
    "cur.execute(q)\n",
    "headers = list(map(lambda attr : attr[0], cur.description))\n",
    "results = [{header:row[i] for i, header in enumerate(headers)} for row in cur]\n",
    "opt = pd.DataFrame(results)\n",
    "cur.description\n",
    "# cur.fetchall()\n",
    "opt"
   ]
  },
  {
   "cell_type": "markdown",
   "id": "fe173d64",
   "metadata": {},
   "source": [
    "Create a view tagging which customers are handled by which sales\n",
    "person. Display Customer name, Salesman name"
   ]
  },
  {
   "cell_type": "code",
   "execution_count": 122,
   "id": "47a18020",
   "metadata": {},
   "outputs": [],
   "source": [
    "\n",
    "q = '''CREATE VIEW tagging As select c.CName as CustomerName from customer AS c left join Salesman AS s on c.Salesman_id=s.Salesman_id\n",
    "union all select s.SName as SalespersonName from Salesman AS s\n",
    "'''"
   ]
  },
  {
   "cell_type": "code",
   "execution_count": 124,
   "id": "ec5e7cf0",
   "metadata": {},
   "outputs": [],
   "source": [
    "# cur.execute(q)\n",
    "# headers = list(map(lambda attr : attr[0], cur.description))\n",
    "# results = [{header:row[i] for i, header in enumerate(headers)} for row in cur]\n",
    "# opt = pd.DataFrame(results)\n",
    "# cur.description\n",
    "# # cur.fetchall()\n",
    "# opt"
   ]
  },
  {
   "cell_type": "code",
   "execution_count": null,
   "id": "5ef422e5",
   "metadata": {},
   "outputs": [],
   "source": []
  },
  {
   "cell_type": "markdown",
   "id": "e3f9eff4",
   "metadata": {},
   "source": [
    "Extract the leading two accounts having the highest total distinctive\n",
    "customers based on every month."
   ]
  },
  {
   "cell_type": "code",
   "execution_count": 125,
   "id": "09a609e8",
   "metadata": {},
   "outputs": [],
   "source": [
    "query = '''CREATE TABLE IF NOT EXISTS Customers (Account ID   integer, Date  DATE, Customer ID integer)'''\n",
    "\n",
    "cur.execute(query)\n",
    "con.commit()"
   ]
  },
  {
   "cell_type": "code",
   "execution_count": 148,
   "id": "129458a6",
   "metadata": {},
   "outputs": [],
   "source": [
    "# 1, '2022-01-02', 10\n",
    "# 1, '2022-01-27', 20\n",
    "# 2, '2022-01-01', 30\n",
    "# 2, '2022-01-21', 40\n",
    "# 2, '2022-01-21', 30\n",
    "# 2, '2022-01-01', 50\n",
    "# 3, '2022-01-20', 40\n",
    "# 1, '2022-01-04', 50\n",
    "# 3, '2022-01-20', 45"
   ]
  },
  {
   "cell_type": "code",
   "execution_count": 146,
   "id": "37df93fd",
   "metadata": {},
   "outputs": [],
   "source": [
    "q = '''insert into Customers values(3, '2022-01-20', 45)'''\n",
    "\n",
    "cur.execute(q)\n",
    "\n",
    "con.commit()"
   ]
  },
  {
   "cell_type": "code",
   "execution_count": 147,
   "id": "2dc1870a",
   "metadata": {},
   "outputs": [
    {
     "data": {
      "text/html": [
       "<div>\n",
       "<style scoped>\n",
       "    .dataframe tbody tr th:only-of-type {\n",
       "        vertical-align: middle;\n",
       "    }\n",
       "\n",
       "    .dataframe tbody tr th {\n",
       "        vertical-align: top;\n",
       "    }\n",
       "\n",
       "    .dataframe thead th {\n",
       "        text-align: right;\n",
       "    }\n",
       "</style>\n",
       "<table border=\"1\" class=\"dataframe\">\n",
       "  <thead>\n",
       "    <tr style=\"text-align: right;\">\n",
       "      <th></th>\n",
       "      <th>Account</th>\n",
       "      <th>Date</th>\n",
       "      <th>Customer</th>\n",
       "    </tr>\n",
       "  </thead>\n",
       "  <tbody>\n",
       "    <tr>\n",
       "      <th>0</th>\n",
       "      <td>1</td>\n",
       "      <td>2022-01-02</td>\n",
       "      <td>10</td>\n",
       "    </tr>\n",
       "    <tr>\n",
       "      <th>1</th>\n",
       "      <td>1</td>\n",
       "      <td>2022-01-27</td>\n",
       "      <td>20</td>\n",
       "    </tr>\n",
       "    <tr>\n",
       "      <th>2</th>\n",
       "      <td>2</td>\n",
       "      <td>2022-01-01</td>\n",
       "      <td>30</td>\n",
       "    </tr>\n",
       "    <tr>\n",
       "      <th>3</th>\n",
       "      <td>2</td>\n",
       "      <td>2022-01-21</td>\n",
       "      <td>40</td>\n",
       "    </tr>\n",
       "    <tr>\n",
       "      <th>4</th>\n",
       "      <td>2</td>\n",
       "      <td>2022-01-21</td>\n",
       "      <td>30</td>\n",
       "    </tr>\n",
       "    <tr>\n",
       "      <th>5</th>\n",
       "      <td>2</td>\n",
       "      <td>2022-01-01</td>\n",
       "      <td>50</td>\n",
       "    </tr>\n",
       "    <tr>\n",
       "      <th>6</th>\n",
       "      <td>3</td>\n",
       "      <td>2022-01-20</td>\n",
       "      <td>40</td>\n",
       "    </tr>\n",
       "    <tr>\n",
       "      <th>7</th>\n",
       "      <td>1</td>\n",
       "      <td>2022-01-04</td>\n",
       "      <td>50</td>\n",
       "    </tr>\n",
       "    <tr>\n",
       "      <th>8</th>\n",
       "      <td>3</td>\n",
       "      <td>2022-01-20</td>\n",
       "      <td>45</td>\n",
       "    </tr>\n",
       "  </tbody>\n",
       "</table>\n",
       "</div>"
      ],
      "text/plain": [
       "   Account        Date  Customer\n",
       "0        1  2022-01-02        10\n",
       "1        1  2022-01-27        20\n",
       "2        2  2022-01-01        30\n",
       "3        2  2022-01-21        40\n",
       "4        2  2022-01-21        30\n",
       "5        2  2022-01-01        50\n",
       "6        3  2022-01-20        40\n",
       "7        1  2022-01-04        50\n",
       "8        3  2022-01-20        45"
      ]
     },
     "execution_count": 147,
     "metadata": {},
     "output_type": "execute_result"
    }
   ],
   "source": [
    "# cur.execute('delete from  Customers')\n",
    "# con.commit()\n",
    "cur.execute('select * from Customers')\n",
    "headers = list(map(lambda attr : attr[0], cur.description))\n",
    "results = [{header:row[i] for i, header in enumerate(headers)} for row in cur]\n",
    "opt = pd.DataFrame(results)\n",
    "cur.description\n",
    "# cur.fetchall()\n",
    "opt"
   ]
  },
  {
   "cell_type": "code",
   "execution_count": 187,
   "id": "f0ef0e1d",
   "metadata": {},
   "outputs": [],
   "source": [
    "q = '''select Account as Account_ID, count(DISTINCT Customer) as Customer_Count from Customers group by Account limit 2'''\n",
    "\n",
    "cur.execute(q)\n",
    "\n",
    "con.commit()"
   ]
  },
  {
   "cell_type": "code",
   "execution_count": 188,
   "id": "f39c2741",
   "metadata": {},
   "outputs": [
    {
     "data": {
      "text/html": [
       "<div>\n",
       "<style scoped>\n",
       "    .dataframe tbody tr th:only-of-type {\n",
       "        vertical-align: middle;\n",
       "    }\n",
       "\n",
       "    .dataframe tbody tr th {\n",
       "        vertical-align: top;\n",
       "    }\n",
       "\n",
       "    .dataframe thead th {\n",
       "        text-align: right;\n",
       "    }\n",
       "</style>\n",
       "<table border=\"1\" class=\"dataframe\">\n",
       "  <thead>\n",
       "    <tr style=\"text-align: right;\">\n",
       "      <th></th>\n",
       "      <th>Account_ID</th>\n",
       "      <th>Customer_Count</th>\n",
       "    </tr>\n",
       "  </thead>\n",
       "  <tbody>\n",
       "    <tr>\n",
       "      <th>0</th>\n",
       "      <td>1</td>\n",
       "      <td>3</td>\n",
       "    </tr>\n",
       "    <tr>\n",
       "      <th>1</th>\n",
       "      <td>2</td>\n",
       "      <td>3</td>\n",
       "    </tr>\n",
       "  </tbody>\n",
       "</table>\n",
       "</div>"
      ],
      "text/plain": [
       "   Account_ID  Customer_Count\n",
       "0           1               3\n",
       "1           2               3"
      ]
     },
     "execution_count": 188,
     "metadata": {},
     "output_type": "execute_result"
    }
   ],
   "source": [
    "# cur.execute('delete from  Customers')\n",
    "# con.commit()\n",
    "headers = list(map(lambda attr : attr[0], cur.description))\n",
    "results = [{header:row[i] for i, header in enumerate(headers)} for row in cur]\n",
    "opt = pd.DataFrame(results)\n",
    "cur.description\n",
    "# cur.fetchall()\n",
    "opt"
   ]
  },
  {
   "cell_type": "markdown",
   "id": "798cc75a",
   "metadata": {},
   "source": [
    "3. Write an SQL query to display:\n",
    "● Employee having the highest salary\n",
    "● Department having the highest total salary\n",
    "● Employees who either earn the highest salary or the lowest salary in\n",
    "each department from the employee table."
   ]
  },
  {
   "cell_type": "code",
   "execution_count": null,
   "id": "f9225272",
   "metadata": {},
   "outputs": [],
   "source": []
  },
  {
   "cell_type": "code",
   "execution_count": 189,
   "id": "5ab79d95",
   "metadata": {},
   "outputs": [],
   "source": [
    "query = '''CREATE TABLE IF NOT EXISTS EMPLOYEE (emp_id integer Primary Key, emp_name  varchar, dept_name varchar, salary iniger)'''\n",
    "\n",
    "cur.execute(query)\n",
    "con.commit()"
   ]
  },
  {
   "cell_type": "code",
   "execution_count": null,
   "id": "37b42ff7",
   "metadata": {},
   "outputs": [],
   "source": [
    "11 'A' 'Admin' 2000"
   ]
  },
  {
   "cell_type": "code",
   "execution_count": 220,
   "id": "fc12ad86",
   "metadata": {},
   "outputs": [],
   "source": [
    "q = '''insert into EMPLOYEE values(234, 'X', 'IT', 11000)'''\n",
    "\n",
    "cur.execute(q)\n",
    "\n",
    "con.commit()"
   ]
  },
  {
   "cell_type": "code",
   "execution_count": 221,
   "id": "e3d85f0b",
   "metadata": {},
   "outputs": [
    {
     "data": {
      "text/html": [
       "<div>\n",
       "<style scoped>\n",
       "    .dataframe tbody tr th:only-of-type {\n",
       "        vertical-align: middle;\n",
       "    }\n",
       "\n",
       "    .dataframe tbody tr th {\n",
       "        vertical-align: top;\n",
       "    }\n",
       "\n",
       "    .dataframe thead th {\n",
       "        text-align: right;\n",
       "    }\n",
       "</style>\n",
       "<table border=\"1\" class=\"dataframe\">\n",
       "  <thead>\n",
       "    <tr style=\"text-align: right;\">\n",
       "      <th></th>\n",
       "      <th>emp_id</th>\n",
       "      <th>emp_name</th>\n",
       "      <th>dept_name</th>\n",
       "      <th>salary</th>\n",
       "    </tr>\n",
       "  </thead>\n",
       "  <tbody>\n",
       "    <tr>\n",
       "      <th>0</th>\n",
       "      <td>11</td>\n",
       "      <td>A</td>\n",
       "      <td>Admin</td>\n",
       "      <td>2000</td>\n",
       "    </tr>\n",
       "    <tr>\n",
       "      <th>1</th>\n",
       "      <td>14</td>\n",
       "      <td>B</td>\n",
       "      <td>Admin</td>\n",
       "      <td>4000</td>\n",
       "    </tr>\n",
       "    <tr>\n",
       "      <th>2</th>\n",
       "      <td>15</td>\n",
       "      <td>C</td>\n",
       "      <td>Admin</td>\n",
       "      <td>4000</td>\n",
       "    </tr>\n",
       "    <tr>\n",
       "      <th>3</th>\n",
       "      <td>17</td>\n",
       "      <td>I</td>\n",
       "      <td>HR</td>\n",
       "      <td>3000</td>\n",
       "    </tr>\n",
       "    <tr>\n",
       "      <th>4</th>\n",
       "      <td>23</td>\n",
       "      <td>E</td>\n",
       "      <td>Finance</td>\n",
       "      <td>5500</td>\n",
       "    </tr>\n",
       "    <tr>\n",
       "      <th>5</th>\n",
       "      <td>45</td>\n",
       "      <td>G</td>\n",
       "      <td>Finance</td>\n",
       "      <td>6500</td>\n",
       "    </tr>\n",
       "    <tr>\n",
       "      <th>6</th>\n",
       "      <td>49</td>\n",
       "      <td>P</td>\n",
       "      <td>IT</td>\n",
       "      <td>4500</td>\n",
       "    </tr>\n",
       "    <tr>\n",
       "      <th>7</th>\n",
       "      <td>65</td>\n",
       "      <td>D</td>\n",
       "      <td>Admin</td>\n",
       "      <td>5000</td>\n",
       "    </tr>\n",
       "    <tr>\n",
       "      <th>8</th>\n",
       "      <td>76</td>\n",
       "      <td>E</td>\n",
       "      <td>Finance</td>\n",
       "      <td>5000</td>\n",
       "    </tr>\n",
       "    <tr>\n",
       "      <th>9</th>\n",
       "      <td>87</td>\n",
       "      <td>J</td>\n",
       "      <td>HR</td>\n",
       "      <td>3000</td>\n",
       "    </tr>\n",
       "    <tr>\n",
       "      <th>10</th>\n",
       "      <td>90</td>\n",
       "      <td>Q</td>\n",
       "      <td>IT</td>\n",
       "      <td>6000</td>\n",
       "    </tr>\n",
       "    <tr>\n",
       "      <th>11</th>\n",
       "      <td>93</td>\n",
       "      <td>O</td>\n",
       "      <td>IT</td>\n",
       "      <td>4000</td>\n",
       "    </tr>\n",
       "    <tr>\n",
       "      <th>12</th>\n",
       "      <td>213</td>\n",
       "      <td>U</td>\n",
       "      <td>IT</td>\n",
       "      <td>8000</td>\n",
       "    </tr>\n",
       "    <tr>\n",
       "      <th>13</th>\n",
       "      <td>234</td>\n",
       "      <td>X</td>\n",
       "      <td>IT</td>\n",
       "      <td>11000</td>\n",
       "    </tr>\n",
       "    <tr>\n",
       "      <th>14</th>\n",
       "      <td>342</td>\n",
       "      <td>W</td>\n",
       "      <td>IT</td>\n",
       "      <td>10000</td>\n",
       "    </tr>\n",
       "  </tbody>\n",
       "</table>\n",
       "</div>"
      ],
      "text/plain": [
       "    emp_id emp_name dept_name salary\n",
       "0       11        A     Admin   2000\n",
       "1       14        B     Admin   4000\n",
       "2       15        C     Admin   4000\n",
       "3       17        I        HR   3000\n",
       "4       23        E   Finance   5500\n",
       "5       45        G   Finance   6500\n",
       "6       49        P        IT   4500\n",
       "7       65        D     Admin   5000\n",
       "8       76        E   Finance   5000\n",
       "9       87        J        HR   3000\n",
       "10      90        Q        IT   6000\n",
       "11      93        O        IT   4000\n",
       "12     213        U        IT   8000\n",
       "13     234        X        IT  11000\n",
       "14     342        W        IT  10000"
      ]
     },
     "execution_count": 221,
     "metadata": {},
     "output_type": "execute_result"
    }
   ],
   "source": [
    "# cur.execute('delete from  Customers')\n",
    "# con.commit()\n",
    "cur.execute('select * from EMPLOYEE')\n",
    "headers = list(map(lambda attr : attr[0], cur.description))\n",
    "results = [{header:row[i] for i, header in enumerate(headers)} for row in cur]\n",
    "opt = pd.DataFrame(results)\n",
    "cur.description\n",
    "# cur.fetchall()\n",
    "opt"
   ]
  },
  {
   "cell_type": "code",
   "execution_count": 238,
   "id": "9faf0847",
   "metadata": {},
   "outputs": [],
   "source": [
    "q = '''select MAX(salary), emp_name from EMPLOYEE'''\n",
    "cur.execute(q)\n",
    "\n",
    "con.commit()"
   ]
  },
  {
   "cell_type": "code",
   "execution_count": 239,
   "id": "f15c892f",
   "metadata": {},
   "outputs": [
    {
     "data": {
      "text/html": [
       "<div>\n",
       "<style scoped>\n",
       "    .dataframe tbody tr th:only-of-type {\n",
       "        vertical-align: middle;\n",
       "    }\n",
       "\n",
       "    .dataframe tbody tr th {\n",
       "        vertical-align: top;\n",
       "    }\n",
       "\n",
       "    .dataframe thead th {\n",
       "        text-align: right;\n",
       "    }\n",
       "</style>\n",
       "<table border=\"1\" class=\"dataframe\">\n",
       "  <thead>\n",
       "    <tr style=\"text-align: right;\">\n",
       "      <th></th>\n",
       "      <th>MAX(salary)</th>\n",
       "      <th>emp_name</th>\n",
       "    </tr>\n",
       "  </thead>\n",
       "  <tbody>\n",
       "    <tr>\n",
       "      <th>0</th>\n",
       "      <td>8000</td>\n",
       "      <td>U</td>\n",
       "    </tr>\n",
       "  </tbody>\n",
       "</table>\n",
       "</div>"
      ],
      "text/plain": [
       "  MAX(salary) emp_name\n",
       "0        8000        U"
      ]
     },
     "execution_count": 239,
     "metadata": {},
     "output_type": "execute_result"
    }
   ],
   "source": [
    "# cur.execute('delete from  Customers')\n",
    "# con.commit()\n",
    "headers = list(map(lambda attr : attr[0], cur.description))\n",
    "results = [{header:row[i] for i, header in enumerate(headers)} for row in cur]\n",
    "opt = pd.DataFrame(results)\n",
    "cur.description\n",
    "# cur.fetchall()\n",
    "opt"
   ]
  },
  {
   "cell_type": "code",
   "execution_count": 240,
   "id": "d41d0155",
   "metadata": {},
   "outputs": [
    {
     "data": {
      "text/plain": [
       "[('8000', 'IT')]"
      ]
     },
     "execution_count": 240,
     "metadata": {},
     "output_type": "execute_result"
    }
   ],
   "source": [
    "q = '''select MAX(salary), dept_name from EMPLOYEE'''\n",
    "cur.execute(q)\n",
    "\n",
    "con.commit()\n",
    "cur.fetchall()"
   ]
  },
  {
   "cell_type": "code",
   "execution_count": 262,
   "id": "738bdc99",
   "metadata": {},
   "outputs": [],
   "source": [
    "q = '''select emp_name, max(salary), dept_name from EMPLOYEE group by dept_name'''\n",
    "\n",
    "cur.execute(q)\n",
    "\n",
    "con.commit()"
   ]
  },
  {
   "cell_type": "code",
   "execution_count": 263,
   "id": "cd9dce08",
   "metadata": {},
   "outputs": [
    {
     "data": {
      "text/html": [
       "<div>\n",
       "<style scoped>\n",
       "    .dataframe tbody tr th:only-of-type {\n",
       "        vertical-align: middle;\n",
       "    }\n",
       "\n",
       "    .dataframe tbody tr th {\n",
       "        vertical-align: top;\n",
       "    }\n",
       "\n",
       "    .dataframe thead th {\n",
       "        text-align: right;\n",
       "    }\n",
       "</style>\n",
       "<table border=\"1\" class=\"dataframe\">\n",
       "  <thead>\n",
       "    <tr style=\"text-align: right;\">\n",
       "      <th></th>\n",
       "      <th>emp_name</th>\n",
       "      <th>max(salary)</th>\n",
       "      <th>dept_name</th>\n",
       "    </tr>\n",
       "  </thead>\n",
       "  <tbody>\n",
       "    <tr>\n",
       "      <th>0</th>\n",
       "      <td>D</td>\n",
       "      <td>5000</td>\n",
       "      <td>Admin</td>\n",
       "    </tr>\n",
       "    <tr>\n",
       "      <th>1</th>\n",
       "      <td>G</td>\n",
       "      <td>6500</td>\n",
       "      <td>Finance</td>\n",
       "    </tr>\n",
       "    <tr>\n",
       "      <th>2</th>\n",
       "      <td>I</td>\n",
       "      <td>3000</td>\n",
       "      <td>HR</td>\n",
       "    </tr>\n",
       "    <tr>\n",
       "      <th>3</th>\n",
       "      <td>U</td>\n",
       "      <td>8000</td>\n",
       "      <td>IT</td>\n",
       "    </tr>\n",
       "  </tbody>\n",
       "</table>\n",
       "</div>"
      ],
      "text/plain": [
       "  emp_name max(salary) dept_name\n",
       "0        D        5000     Admin\n",
       "1        G        6500   Finance\n",
       "2        I        3000        HR\n",
       "3        U        8000        IT"
      ]
     },
     "execution_count": 263,
     "metadata": {},
     "output_type": "execute_result"
    }
   ],
   "source": [
    "# cur.execute('delete from  Customers')\n",
    "# con.commit()\n",
    "headers = list(map(lambda attr : attr[0], cur.description))\n",
    "results = [{header:row[i] for i, header in enumerate(headers)} for row in cur]\n",
    "opt = pd.DataFrame(results)\n",
    "cur.description\n",
    "# cur.fetchall()\n",
    "opt"
   ]
  },
  {
   "cell_type": "code",
   "execution_count": 266,
   "id": "c49d29f9",
   "metadata": {},
   "outputs": [],
   "source": [
    "q = '''select emp_name, min(salary), dept_name from EMPLOYEE group by dept_name'''\n",
    "\n",
    "cur.execute(q)\n",
    "\n",
    "con.commit()"
   ]
  },
  {
   "cell_type": "code",
   "execution_count": 267,
   "id": "cc74bb25",
   "metadata": {},
   "outputs": [
    {
     "data": {
      "text/html": [
       "<div>\n",
       "<style scoped>\n",
       "    .dataframe tbody tr th:only-of-type {\n",
       "        vertical-align: middle;\n",
       "    }\n",
       "\n",
       "    .dataframe tbody tr th {\n",
       "        vertical-align: top;\n",
       "    }\n",
       "\n",
       "    .dataframe thead th {\n",
       "        text-align: right;\n",
       "    }\n",
       "</style>\n",
       "<table border=\"1\" class=\"dataframe\">\n",
       "  <thead>\n",
       "    <tr style=\"text-align: right;\">\n",
       "      <th></th>\n",
       "      <th>emp_name</th>\n",
       "      <th>min(salary)</th>\n",
       "      <th>dept_name</th>\n",
       "    </tr>\n",
       "  </thead>\n",
       "  <tbody>\n",
       "    <tr>\n",
       "      <th>0</th>\n",
       "      <td>A</td>\n",
       "      <td>2000</td>\n",
       "      <td>Admin</td>\n",
       "    </tr>\n",
       "    <tr>\n",
       "      <th>1</th>\n",
       "      <td>E</td>\n",
       "      <td>5000</td>\n",
       "      <td>Finance</td>\n",
       "    </tr>\n",
       "    <tr>\n",
       "      <th>2</th>\n",
       "      <td>I</td>\n",
       "      <td>3000</td>\n",
       "      <td>HR</td>\n",
       "    </tr>\n",
       "    <tr>\n",
       "      <th>3</th>\n",
       "      <td>W</td>\n",
       "      <td>10000</td>\n",
       "      <td>IT</td>\n",
       "    </tr>\n",
       "  </tbody>\n",
       "</table>\n",
       "</div>"
      ],
      "text/plain": [
       "  emp_name min(salary) dept_name\n",
       "0        A        2000     Admin\n",
       "1        E        5000   Finance\n",
       "2        I        3000        HR\n",
       "3        W       10000        IT"
      ]
     },
     "execution_count": 267,
     "metadata": {},
     "output_type": "execute_result"
    }
   ],
   "source": [
    "# cur.execute('delete from  Customers')\n",
    "# con.commit()\n",
    "headers = list(map(lambda attr : attr[0], cur.description))\n",
    "results = [{header:row[i] for i, header in enumerate(headers)} for row in cur]\n",
    "opt = pd.DataFrame(results)\n",
    "cur.description\n",
    "# cur.fetchall()\n",
    "opt"
   ]
  },
  {
   "cell_type": "code",
   "execution_count": null,
   "id": "4be539ee",
   "metadata": {},
   "outputs": [],
   "source": []
  },
  {
   "cell_type": "code",
   "execution_count": 274,
   "id": "eaf4a131",
   "metadata": {},
   "outputs": [
    {
     "ename": "OperationalError",
     "evalue": "near \"%\": syntax error",
     "output_type": "error",
     "traceback": [
      "\u001b[1;31m---------------------------------------------------------------------------\u001b[0m",
      "\u001b[1;31mOperationalError\u001b[0m                          Traceback (most recent call last)",
      "\u001b[1;32m<ipython-input-274-c7de99a16723>\u001b[0m in \u001b[0;36m<module>\u001b[1;34m\u001b[0m\n\u001b[0;32m      1\u001b[0m \u001b[0mq\u001b[0m \u001b[1;33m=\u001b[0m \u001b[1;34m'''select emp_name, min(salary) as min %testr%, dept_name from EMPLOYEE group by dept_name'''\u001b[0m\u001b[1;33m\u001b[0m\u001b[1;33m\u001b[0m\u001b[0m\n\u001b[0;32m      2\u001b[0m \u001b[1;33m\u001b[0m\u001b[0m\n\u001b[1;32m----> 3\u001b[1;33m \u001b[0mcur\u001b[0m\u001b[1;33m.\u001b[0m\u001b[0mexecute\u001b[0m\u001b[1;33m(\u001b[0m\u001b[0mq\u001b[0m\u001b[1;33m)\u001b[0m\u001b[1;33m\u001b[0m\u001b[1;33m\u001b[0m\u001b[0m\n\u001b[0m\u001b[0;32m      4\u001b[0m \u001b[1;33m\u001b[0m\u001b[0m\n\u001b[0;32m      5\u001b[0m \u001b[0mcon\u001b[0m\u001b[1;33m.\u001b[0m\u001b[0mcommit\u001b[0m\u001b[1;33m(\u001b[0m\u001b[1;33m)\u001b[0m\u001b[1;33m\u001b[0m\u001b[1;33m\u001b[0m\u001b[0m\n",
      "\u001b[1;31mOperationalError\u001b[0m: near \"%\": syntax error"
     ]
    }
   ],
   "source": [
    "q = '''select emp_name, min(salary) as min %testr%, dept_name from EMPLOYEE group by dept_name'''\n",
    "\n",
    "cur.execute(q)\n",
    "\n",
    "con.commit()"
   ]
  },
  {
   "cell_type": "code",
   "execution_count": 271,
   "id": "76d4645c",
   "metadata": {},
   "outputs": [
    {
     "data": {
      "text/html": [
       "<div>\n",
       "<style scoped>\n",
       "    .dataframe tbody tr th:only-of-type {\n",
       "        vertical-align: middle;\n",
       "    }\n",
       "\n",
       "    .dataframe tbody tr th {\n",
       "        vertical-align: top;\n",
       "    }\n",
       "\n",
       "    .dataframe thead th {\n",
       "        text-align: right;\n",
       "    }\n",
       "</style>\n",
       "<table border=\"1\" class=\"dataframe\">\n",
       "  <thead>\n",
       "    <tr style=\"text-align: right;\">\n",
       "      <th></th>\n",
       "      <th>emp_name</th>\n",
       "      <th>testr</th>\n",
       "      <th>dept_name</th>\n",
       "    </tr>\n",
       "  </thead>\n",
       "  <tbody>\n",
       "    <tr>\n",
       "      <th>0</th>\n",
       "      <td>A</td>\n",
       "      <td>2000</td>\n",
       "      <td>Admin</td>\n",
       "    </tr>\n",
       "    <tr>\n",
       "      <th>1</th>\n",
       "      <td>E</td>\n",
       "      <td>5000</td>\n",
       "      <td>Finance</td>\n",
       "    </tr>\n",
       "    <tr>\n",
       "      <th>2</th>\n",
       "      <td>I</td>\n",
       "      <td>3000</td>\n",
       "      <td>HR</td>\n",
       "    </tr>\n",
       "    <tr>\n",
       "      <th>3</th>\n",
       "      <td>W</td>\n",
       "      <td>10000</td>\n",
       "      <td>IT</td>\n",
       "    </tr>\n",
       "  </tbody>\n",
       "</table>\n",
       "</div>"
      ],
      "text/plain": [
       "  emp_name  testr dept_name\n",
       "0        A   2000     Admin\n",
       "1        E   5000   Finance\n",
       "2        I   3000        HR\n",
       "3        W  10000        IT"
      ]
     },
     "execution_count": 271,
     "metadata": {},
     "output_type": "execute_result"
    }
   ],
   "source": [
    "# cur.execute('delete from  Customers')\n",
    "# con.commit()\n",
    "headers = list(map(lambda attr : attr[0], cur.description))\n",
    "results = [{header:row[i] for i, header in enumerate(headers)} for row in cur]\n",
    "opt = pd.DataFrame(results)\n",
    "cur.description\n",
    "# cur.fetchall()\n",
    "opt"
   ]
  },
  {
   "cell_type": "code",
   "execution_count": null,
   "id": "97432c4f",
   "metadata": {},
   "outputs": [],
   "source": []
  }
 ],
 "metadata": {
  "kernelspec": {
   "display_name": "Python 3",
   "language": "python",
   "name": "python3"
  },
  "language_info": {
   "codemirror_mode": {
    "name": "ipython",
    "version": 3
   },
   "file_extension": ".py",
   "mimetype": "text/x-python",
   "name": "python",
   "nbconvert_exporter": "python",
   "pygments_lexer": "ipython3",
   "version": "3.8.10"
  }
 },
 "nbformat": 4,
 "nbformat_minor": 5
}
