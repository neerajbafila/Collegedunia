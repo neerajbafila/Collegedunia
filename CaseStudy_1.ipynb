{
 "cells": [
  {
   "cell_type": "code",
   "execution_count": 1027,
   "id": "88b85e2f",
   "metadata": {},
   "outputs": [],
   "source": [
    "import pandas as pd\n",
    "import matplotlib.pyplot as plt\n",
    "import seaborn as sns\n",
    "import numpy as np\n",
    "%matplotlib inline"
   ]
  },
  {
   "cell_type": "code",
   "execution_count": 905,
   "id": "16b1bae7",
   "metadata": {},
   "outputs": [],
   "source": [
    "data = pd.read_csv(r'UserLeads.csv')"
   ]
  },
  {
   "cell_type": "code",
   "execution_count": 906,
   "id": "e3a186cd",
   "metadata": {},
   "outputs": [],
   "source": [
    "User_lead = data"
   ]
  },
  {
   "cell_type": "code",
   "execution_count": 907,
   "id": "949ab349",
   "metadata": {},
   "outputs": [
    {
     "data": {
      "text/html": [
       "<div>\n",
       "<style scoped>\n",
       "    .dataframe tbody tr th:only-of-type {\n",
       "        vertical-align: middle;\n",
       "    }\n",
       "\n",
       "    .dataframe tbody tr th {\n",
       "        vertical-align: top;\n",
       "    }\n",
       "\n",
       "    .dataframe thead th {\n",
       "        text-align: right;\n",
       "    }\n",
       "</style>\n",
       "<table border=\"1\" class=\"dataframe\">\n",
       "  <thead>\n",
       "    <tr style=\"text-align: right;\">\n",
       "      <th></th>\n",
       "      <th>lead_id</th>\n",
       "      <th>name</th>\n",
       "      <th>email</th>\n",
       "      <th>user_id</th>\n",
       "      <th>date_of_birth</th>\n",
       "      <th>experience</th>\n",
       "      <th>functional_area</th>\n",
       "      <th>year_passing</th>\n",
       "      <th>10th_year</th>\n",
       "      <th>12th_year</th>\n",
       "      <th>...</th>\n",
       "      <th>ip</th>\n",
       "      <th>from_page</th>\n",
       "      <th>location_on_page</th>\n",
       "      <th>country</th>\n",
       "      <th>location_from_ip</th>\n",
       "      <th>single_course_id</th>\n",
       "      <th>lead_type</th>\n",
       "      <th>updated_on</th>\n",
       "      <th>country_code</th>\n",
       "      <th>sa_lead_id</th>\n",
       "    </tr>\n",
       "  </thead>\n",
       "  <tbody>\n",
       "    <tr>\n",
       "      <th>0</th>\n",
       "      <td>80294728</td>\n",
       "      <td>Deva Arun</td>\n",
       "      <td>devatazmin@gmail.com</td>\n",
       "      <td>18889386</td>\n",
       "      <td>NaN</td>\n",
       "      <td>NaN</td>\n",
       "      <td>NaN</td>\n",
       "      <td>NaN</td>\n",
       "      <td>NaN</td>\n",
       "      <td>NaN</td>\n",
       "      <td>...</td>\n",
       "      <td>103.85.206.46</td>\n",
       "      <td>course_single_page_overview</td>\n",
       "      <td>NaN</td>\n",
       "      <td>0.0</td>\n",
       "      <td>0</td>\n",
       "      <td>5721.0</td>\n",
       "      <td>6</td>\n",
       "      <td>01-03-22 8:17</td>\n",
       "      <td>91</td>\n",
       "      <td>NaN</td>\n",
       "    </tr>\n",
       "    <tr>\n",
       "      <th>1</th>\n",
       "      <td>80297741</td>\n",
       "      <td>Naveed Shafi</td>\n",
       "      <td>naddunaveed1419@gmail.com</td>\n",
       "      <td>21165034</td>\n",
       "      <td>NaN</td>\n",
       "      <td>NaN</td>\n",
       "      <td>NaN</td>\n",
       "      <td>NaN</td>\n",
       "      <td>NaN</td>\n",
       "      <td>NaN</td>\n",
       "      <td>...</td>\n",
       "      <td>205.253.26.160</td>\n",
       "      <td>course_single_page_overview</td>\n",
       "      <td>NaN</td>\n",
       "      <td>0.0</td>\n",
       "      <td>0</td>\n",
       "      <td>5721.0</td>\n",
       "      <td>6</td>\n",
       "      <td>01-03-22 10:26</td>\n",
       "      <td>91</td>\n",
       "      <td>NaN</td>\n",
       "    </tr>\n",
       "    <tr>\n",
       "      <th>2</th>\n",
       "      <td>80298246</td>\n",
       "      <td>Sneha s</td>\n",
       "      <td>Jessieselvakumar26@gmail.com</td>\n",
       "      <td>17815776</td>\n",
       "      <td>NaN</td>\n",
       "      <td>NaN</td>\n",
       "      <td>NaN</td>\n",
       "      <td>NaN</td>\n",
       "      <td>NaN</td>\n",
       "      <td>NaN</td>\n",
       "      <td>...</td>\n",
       "      <td>223.228.189.170</td>\n",
       "      <td>course_single_page_career_options_and_jobs</td>\n",
       "      <td>NaN</td>\n",
       "      <td>0.0</td>\n",
       "      <td>0</td>\n",
       "      <td>5721.0</td>\n",
       "      <td>6</td>\n",
       "      <td>01-03-22 10:43</td>\n",
       "      <td>91</td>\n",
       "      <td>NaN</td>\n",
       "    </tr>\n",
       "    <tr>\n",
       "      <th>3</th>\n",
       "      <td>80299448</td>\n",
       "      <td>Anjali Nair</td>\n",
       "      <td>anjalinairaps@gmail.com</td>\n",
       "      <td>21094808</td>\n",
       "      <td>NaN</td>\n",
       "      <td>NaN</td>\n",
       "      <td>NaN</td>\n",
       "      <td>NaN</td>\n",
       "      <td>NaN</td>\n",
       "      <td>NaN</td>\n",
       "      <td>...</td>\n",
       "      <td>110.225.92.35</td>\n",
       "      <td>listing</td>\n",
       "      <td>NaN</td>\n",
       "      <td>0.0</td>\n",
       "      <td>0</td>\n",
       "      <td>NaN</td>\n",
       "      <td>0</td>\n",
       "      <td>01-03-22 11:15</td>\n",
       "      <td>91</td>\n",
       "      <td>NaN</td>\n",
       "    </tr>\n",
       "    <tr>\n",
       "      <th>4</th>\n",
       "      <td>80299870</td>\n",
       "      <td>Shreyash Pratap</td>\n",
       "      <td>kps.hjp03@gmail.com</td>\n",
       "      <td>19850108</td>\n",
       "      <td>NaN</td>\n",
       "      <td>NaN</td>\n",
       "      <td>NaN</td>\n",
       "      <td>NaN</td>\n",
       "      <td>NaN</td>\n",
       "      <td>NaN</td>\n",
       "      <td>...</td>\n",
       "      <td>157.35.17.117</td>\n",
       "      <td>course_single_page_overview</td>\n",
       "      <td>NaN</td>\n",
       "      <td>0.0</td>\n",
       "      <td>0</td>\n",
       "      <td>5718.0</td>\n",
       "      <td>6</td>\n",
       "      <td>01-03-22 11:27</td>\n",
       "      <td>91</td>\n",
       "      <td>NaN</td>\n",
       "    </tr>\n",
       "  </tbody>\n",
       "</table>\n",
       "<p>5 rows × 51 columns</p>\n",
       "</div>"
      ],
      "text/plain": [
       "    lead_id             name                         email   user_id  \\\n",
       "0  80294728        Deva Arun          devatazmin@gmail.com  18889386   \n",
       "1  80297741     Naveed Shafi     naddunaveed1419@gmail.com  21165034   \n",
       "2  80298246          Sneha s  Jessieselvakumar26@gmail.com  17815776   \n",
       "3  80299448      Anjali Nair       anjalinairaps@gmail.com  21094808   \n",
       "4  80299870  Shreyash Pratap           kps.hjp03@gmail.com  19850108   \n",
       "\n",
       "   date_of_birth  experience  functional_area  year_passing  10th_year  \\\n",
       "0            NaN         NaN              NaN           NaN        NaN   \n",
       "1            NaN         NaN              NaN           NaN        NaN   \n",
       "2            NaN         NaN              NaN           NaN        NaN   \n",
       "3            NaN         NaN              NaN           NaN        NaN   \n",
       "4            NaN         NaN              NaN           NaN        NaN   \n",
       "\n",
       "   12th_year  ...               ip  \\\n",
       "0        NaN  ...    103.85.206.46   \n",
       "1        NaN  ...   205.253.26.160   \n",
       "2        NaN  ...  223.228.189.170   \n",
       "3        NaN  ...    110.225.92.35   \n",
       "4        NaN  ...    157.35.17.117   \n",
       "\n",
       "                                    from_page  location_on_page  country  \\\n",
       "0                 course_single_page_overview               NaN      0.0   \n",
       "1                 course_single_page_overview               NaN      0.0   \n",
       "2  course_single_page_career_options_and_jobs               NaN      0.0   \n",
       "3                                     listing               NaN      0.0   \n",
       "4                 course_single_page_overview               NaN      0.0   \n",
       "\n",
       "   location_from_ip  single_course_id lead_type      updated_on country_code  \\\n",
       "0                 0            5721.0         6   01-03-22 8:17           91   \n",
       "1                 0            5721.0         6  01-03-22 10:26           91   \n",
       "2                 0            5721.0         6  01-03-22 10:43           91   \n",
       "3                 0               NaN         0  01-03-22 11:15           91   \n",
       "4                 0            5718.0         6  01-03-22 11:27           91   \n",
       "\n",
       "   sa_lead_id  \n",
       "0         NaN  \n",
       "1         NaN  \n",
       "2         NaN  \n",
       "3         NaN  \n",
       "4         NaN  \n",
       "\n",
       "[5 rows x 51 columns]"
      ]
     },
     "execution_count": 907,
     "metadata": {},
     "output_type": "execute_result"
    }
   ],
   "source": [
    "User_lead.head()"
   ]
  },
  {
   "cell_type": "code",
   "execution_count": 908,
   "id": "af7eacca",
   "metadata": {},
   "outputs": [
    {
     "data": {
      "text/plain": [
       "(2057, 51)"
      ]
     },
     "execution_count": 908,
     "metadata": {},
     "output_type": "execute_result"
    }
   ],
   "source": [
    "User_lead.shape"
   ]
  },
  {
   "cell_type": "code",
   "execution_count": 909,
   "id": "8a2aa4b1",
   "metadata": {},
   "outputs": [
    {
     "data": {
      "text/plain": [
       "Index(['lead_id', 'name', 'email', 'user_id', 'date_of_birth', 'experience',\n",
       "       'functional_area', 'year_passing', '10th_year', '12th_year',\n",
       "       '10th_perc', '12th_perc', 'organisation', 'specialisation',\n",
       "       'year_interested_in', 'course_id', 'stream', 'sub_stream', 'action',\n",
       "       'college_id', 'exam_id', 'course_type', 'level', 'mode', 'state',\n",
       "       'city', 'city_id', 'location', 'channel', 'campaign', 'source',\n",
       "       'is_mobile_verified', 'is_deleted', 'deleted_on', 'created_on',\n",
       "       'stream_id', 'sub_stream_id', 'course_tag', 'referrer', 'study_abroad',\n",
       "       'loan_assistance', 'ip', 'from_page', 'location_on_page', 'country',\n",
       "       'location_from_ip', 'single_course_id', 'lead_type', 'updated_on',\n",
       "       'country_code', 'sa_lead_id'],\n",
       "      dtype='object')"
      ]
     },
     "execution_count": 909,
     "metadata": {},
     "output_type": "execute_result"
    }
   ],
   "source": [
    "User_lead.columns"
   ]
  },
  {
   "cell_type": "code",
   "execution_count": 910,
   "id": "7b44550e",
   "metadata": {},
   "outputs": [
    {
     "data": {
      "text/plain": [
       "lead_id                  0\n",
       "name                     0\n",
       "email                    0\n",
       "user_id                  0\n",
       "date_of_birth         2057\n",
       "experience            2057\n",
       "functional_area       2057\n",
       "year_passing          2057\n",
       "10th_year             2057\n",
       "12th_year             2057\n",
       "10th_perc             2057\n",
       "12th_perc             2057\n",
       "organisation          2057\n",
       "specialisation        2057\n",
       "year_interested_in    2057\n",
       "course_id                0\n",
       "stream                  18\n",
       "sub_stream            2057\n",
       "action                   0\n",
       "college_id            1673\n",
       "exam_id               2057\n",
       "course_type           2057\n",
       "level                  106\n",
       "mode                     0\n",
       "state                    0\n",
       "city                     0\n",
       "city_id                  0\n",
       "location              2057\n",
       "channel               2057\n",
       "campaign              2057\n",
       "source                   0\n",
       "is_mobile_verified       0\n",
       "is_deleted               0\n",
       "deleted_on            2057\n",
       "created_on               0\n",
       "stream_id               18\n",
       "sub_stream_id         2057\n",
       "course_tag              57\n",
       "referrer                 0\n",
       "study_abroad             0\n",
       "loan_assistance          0\n",
       "ip                       0\n",
       "from_page                6\n",
       "location_on_page      1902\n",
       "country                272\n",
       "location_from_ip         0\n",
       "single_course_id      1262\n",
       "lead_type                0\n",
       "updated_on               0\n",
       "country_code             0\n",
       "sa_lead_id            2041\n",
       "dtype: int64"
      ]
     },
     "execution_count": 910,
     "metadata": {},
     "output_type": "execute_result"
    }
   ],
   "source": [
    "User_lead.isnull().sum()"
   ]
  },
  {
   "cell_type": "code",
   "execution_count": 911,
   "id": "903853ae",
   "metadata": {},
   "outputs": [],
   "source": [
    "# as we can see many columns are completely empty, so we need to drop them"
   ]
  },
  {
   "cell_type": "code",
   "execution_count": 912,
   "id": "c372b132",
   "metadata": {},
   "outputs": [],
   "source": [
    "column_dic = dict(User_lead.isnull().sum())"
   ]
  },
  {
   "cell_type": "code",
   "execution_count": 913,
   "id": "f69815a2",
   "metadata": {},
   "outputs": [],
   "source": [
    "emplty_col = [key for key, value in column_dic.items() if value>1900 ]"
   ]
  },
  {
   "cell_type": "code",
   "execution_count": 914,
   "id": "ae45f55d",
   "metadata": {},
   "outputs": [
    {
     "data": {
      "text/plain": [
       "['date_of_birth',\n",
       " 'experience',\n",
       " 'functional_area',\n",
       " 'year_passing',\n",
       " '10th_year',\n",
       " '12th_year',\n",
       " '10th_perc',\n",
       " '12th_perc',\n",
       " 'organisation',\n",
       " 'specialisation',\n",
       " 'year_interested_in',\n",
       " 'sub_stream',\n",
       " 'exam_id',\n",
       " 'course_type',\n",
       " 'location',\n",
       " 'channel',\n",
       " 'campaign',\n",
       " 'deleted_on',\n",
       " 'sub_stream_id',\n",
       " 'location_on_page',\n",
       " 'sa_lead_id']"
      ]
     },
     "execution_count": 914,
     "metadata": {},
     "output_type": "execute_result"
    }
   ],
   "source": [
    "emplty_col"
   ]
  },
  {
   "cell_type": "code",
   "execution_count": 915,
   "id": "e02a71a3",
   "metadata": {},
   "outputs": [
    {
     "data": {
      "text/plain": [
       "21"
      ]
     },
     "execution_count": 915,
     "metadata": {},
     "output_type": "execute_result"
    }
   ],
   "source": [
    "len(emplty_col)"
   ]
  },
  {
   "cell_type": "code",
   "execution_count": 916,
   "id": "e72bed84",
   "metadata": {},
   "outputs": [],
   "source": [
    "new_data = User_lead.drop(columns=emplty_col)"
   ]
  },
  {
   "cell_type": "code",
   "execution_count": 917,
   "id": "7ec6bfaa",
   "metadata": {},
   "outputs": [
    {
     "data": {
      "text/html": [
       "<div>\n",
       "<style scoped>\n",
       "    .dataframe tbody tr th:only-of-type {\n",
       "        vertical-align: middle;\n",
       "    }\n",
       "\n",
       "    .dataframe tbody tr th {\n",
       "        vertical-align: top;\n",
       "    }\n",
       "\n",
       "    .dataframe thead th {\n",
       "        text-align: right;\n",
       "    }\n",
       "</style>\n",
       "<table border=\"1\" class=\"dataframe\">\n",
       "  <thead>\n",
       "    <tr style=\"text-align: right;\">\n",
       "      <th></th>\n",
       "      <th>lead_id</th>\n",
       "      <th>name</th>\n",
       "      <th>email</th>\n",
       "      <th>user_id</th>\n",
       "      <th>course_id</th>\n",
       "      <th>stream</th>\n",
       "      <th>action</th>\n",
       "      <th>college_id</th>\n",
       "      <th>level</th>\n",
       "      <th>mode</th>\n",
       "      <th>...</th>\n",
       "      <th>study_abroad</th>\n",
       "      <th>loan_assistance</th>\n",
       "      <th>ip</th>\n",
       "      <th>from_page</th>\n",
       "      <th>country</th>\n",
       "      <th>location_from_ip</th>\n",
       "      <th>single_course_id</th>\n",
       "      <th>lead_type</th>\n",
       "      <th>updated_on</th>\n",
       "      <th>country_code</th>\n",
       "    </tr>\n",
       "  </thead>\n",
       "  <tbody>\n",
       "    <tr>\n",
       "      <th>0</th>\n",
       "      <td>80294728</td>\n",
       "      <td>Deva Arun</td>\n",
       "      <td>devatazmin@gmail.com</td>\n",
       "      <td>18889386</td>\n",
       "      <td>18</td>\n",
       "      <td>Engineering</td>\n",
       "      <td>Revisit</td>\n",
       "      <td>NaN</td>\n",
       "      <td>Graduation</td>\n",
       "      <td>Full Time</td>\n",
       "      <td>...</td>\n",
       "      <td>0</td>\n",
       "      <td>0</td>\n",
       "      <td>103.85.206.46</td>\n",
       "      <td>course_single_page_overview</td>\n",
       "      <td>0.0</td>\n",
       "      <td>0</td>\n",
       "      <td>5721.0</td>\n",
       "      <td>6</td>\n",
       "      <td>01-03-22 8:17</td>\n",
       "      <td>91</td>\n",
       "    </tr>\n",
       "    <tr>\n",
       "      <th>1</th>\n",
       "      <td>80297741</td>\n",
       "      <td>Naveed Shafi</td>\n",
       "      <td>naddunaveed1419@gmail.com</td>\n",
       "      <td>21165034</td>\n",
       "      <td>6</td>\n",
       "      <td>Science</td>\n",
       "      <td>Revisit</td>\n",
       "      <td>NaN</td>\n",
       "      <td>Graduation</td>\n",
       "      <td>Full Time</td>\n",
       "      <td>...</td>\n",
       "      <td>0</td>\n",
       "      <td>0</td>\n",
       "      <td>205.253.26.160</td>\n",
       "      <td>course_single_page_overview</td>\n",
       "      <td>0.0</td>\n",
       "      <td>0</td>\n",
       "      <td>5721.0</td>\n",
       "      <td>6</td>\n",
       "      <td>01-03-22 10:26</td>\n",
       "      <td>91</td>\n",
       "    </tr>\n",
       "    <tr>\n",
       "      <th>2</th>\n",
       "      <td>80298246</td>\n",
       "      <td>Sneha s</td>\n",
       "      <td>Jessieselvakumar26@gmail.com</td>\n",
       "      <td>17815776</td>\n",
       "      <td>18</td>\n",
       "      <td>Engineering</td>\n",
       "      <td>Revisit</td>\n",
       "      <td>NaN</td>\n",
       "      <td>Graduation</td>\n",
       "      <td>Full Time</td>\n",
       "      <td>...</td>\n",
       "      <td>0</td>\n",
       "      <td>0</td>\n",
       "      <td>223.228.189.170</td>\n",
       "      <td>course_single_page_career_options_and_jobs</td>\n",
       "      <td>0.0</td>\n",
       "      <td>0</td>\n",
       "      <td>5721.0</td>\n",
       "      <td>6</td>\n",
       "      <td>01-03-22 10:43</td>\n",
       "      <td>91</td>\n",
       "    </tr>\n",
       "    <tr>\n",
       "      <th>3</th>\n",
       "      <td>80299448</td>\n",
       "      <td>Anjali Nair</td>\n",
       "      <td>anjalinairaps@gmail.com</td>\n",
       "      <td>21094808</td>\n",
       "      <td>195</td>\n",
       "      <td>Aviation</td>\n",
       "      <td>auto_popup</td>\n",
       "      <td>NaN</td>\n",
       "      <td>Graduation</td>\n",
       "      <td>Full Time</td>\n",
       "      <td>...</td>\n",
       "      <td>0</td>\n",
       "      <td>0</td>\n",
       "      <td>110.225.92.35</td>\n",
       "      <td>listing</td>\n",
       "      <td>0.0</td>\n",
       "      <td>0</td>\n",
       "      <td>NaN</td>\n",
       "      <td>0</td>\n",
       "      <td>01-03-22 11:15</td>\n",
       "      <td>91</td>\n",
       "    </tr>\n",
       "    <tr>\n",
       "      <th>4</th>\n",
       "      <td>80299870</td>\n",
       "      <td>Shreyash Pratap</td>\n",
       "      <td>kps.hjp03@gmail.com</td>\n",
       "      <td>19850108</td>\n",
       "      <td>15</td>\n",
       "      <td>Management</td>\n",
       "      <td>Revisit</td>\n",
       "      <td>NaN</td>\n",
       "      <td>Graduation</td>\n",
       "      <td>Full Time</td>\n",
       "      <td>...</td>\n",
       "      <td>0</td>\n",
       "      <td>0</td>\n",
       "      <td>157.35.17.117</td>\n",
       "      <td>course_single_page_overview</td>\n",
       "      <td>0.0</td>\n",
       "      <td>0</td>\n",
       "      <td>5718.0</td>\n",
       "      <td>6</td>\n",
       "      <td>01-03-22 11:27</td>\n",
       "      <td>91</td>\n",
       "    </tr>\n",
       "    <tr>\n",
       "      <th>...</th>\n",
       "      <td>...</td>\n",
       "      <td>...</td>\n",
       "      <td>...</td>\n",
       "      <td>...</td>\n",
       "      <td>...</td>\n",
       "      <td>...</td>\n",
       "      <td>...</td>\n",
       "      <td>...</td>\n",
       "      <td>...</td>\n",
       "      <td>...</td>\n",
       "      <td>...</td>\n",
       "      <td>...</td>\n",
       "      <td>...</td>\n",
       "      <td>...</td>\n",
       "      <td>...</td>\n",
       "      <td>...</td>\n",
       "      <td>...</td>\n",
       "      <td>...</td>\n",
       "      <td>...</td>\n",
       "      <td>...</td>\n",
       "      <td>...</td>\n",
       "    </tr>\n",
       "    <tr>\n",
       "      <th>2052</th>\n",
       "      <td>82895278</td>\n",
       "      <td>Srikant Rana</td>\n",
       "      <td>shrikantrana7@gmail.com</td>\n",
       "      <td>21579626</td>\n",
       "      <td>120</td>\n",
       "      <td>Management</td>\n",
       "      <td>Revisit</td>\n",
       "      <td>NaN</td>\n",
       "      <td>Post Graduation</td>\n",
       "      <td>Full Time</td>\n",
       "      <td>...</td>\n",
       "      <td>0</td>\n",
       "      <td>0</td>\n",
       "      <td>106.193.135.232</td>\n",
       "      <td>listing</td>\n",
       "      <td>0.0</td>\n",
       "      <td>0</td>\n",
       "      <td>NaN</td>\n",
       "      <td>6</td>\n",
       "      <td>30/04/22 16:10</td>\n",
       "      <td>91</td>\n",
       "    </tr>\n",
       "    <tr>\n",
       "      <th>2053</th>\n",
       "      <td>82896006</td>\n",
       "      <td>Yogesh Jaiswal</td>\n",
       "      <td>yjaiswal3@gmail.com</td>\n",
       "      <td>16746904</td>\n",
       "      <td>195</td>\n",
       "      <td>Aviation</td>\n",
       "      <td>Revisit</td>\n",
       "      <td>NaN</td>\n",
       "      <td>Graduation</td>\n",
       "      <td>Full Time</td>\n",
       "      <td>...</td>\n",
       "      <td>0</td>\n",
       "      <td>0</td>\n",
       "      <td>103.54.145.133</td>\n",
       "      <td>listing</td>\n",
       "      <td>0.0</td>\n",
       "      <td>0</td>\n",
       "      <td>NaN</td>\n",
       "      <td>6</td>\n",
       "      <td>30/04/22 16:30</td>\n",
       "      <td>91</td>\n",
       "    </tr>\n",
       "    <tr>\n",
       "      <th>2054</th>\n",
       "      <td>82899678</td>\n",
       "      <td>Sujal chowdhury</td>\n",
       "      <td>sujalchowdhury72@gmail.com</td>\n",
       "      <td>21262817</td>\n",
       "      <td>18</td>\n",
       "      <td>Engineering</td>\n",
       "      <td>Revisit</td>\n",
       "      <td>NaN</td>\n",
       "      <td>Graduation</td>\n",
       "      <td>Full Time</td>\n",
       "      <td>...</td>\n",
       "      <td>0</td>\n",
       "      <td>0</td>\n",
       "      <td>110.224.21.46</td>\n",
       "      <td>stream_article_page</td>\n",
       "      <td>0.0</td>\n",
       "      <td>0</td>\n",
       "      <td>NaN</td>\n",
       "      <td>6</td>\n",
       "      <td>30/04/22 18:09</td>\n",
       "      <td>91</td>\n",
       "    </tr>\n",
       "    <tr>\n",
       "      <th>2055</th>\n",
       "      <td>82904093</td>\n",
       "      <td>Jessica Dhanak</td>\n",
       "      <td>reginaprincess504@gmail.com</td>\n",
       "      <td>21708054</td>\n",
       "      <td>195</td>\n",
       "      <td>Aviation</td>\n",
       "      <td>Revisit</td>\n",
       "      <td>NaN</td>\n",
       "      <td>Graduation</td>\n",
       "      <td>Full Time</td>\n",
       "      <td>...</td>\n",
       "      <td>0</td>\n",
       "      <td>0</td>\n",
       "      <td>106.222.75.208</td>\n",
       "      <td>listing</td>\n",
       "      <td>0.0</td>\n",
       "      <td>0</td>\n",
       "      <td>NaN</td>\n",
       "      <td>6</td>\n",
       "      <td>30/04/22 20:06</td>\n",
       "      <td>91</td>\n",
       "    </tr>\n",
       "    <tr>\n",
       "      <th>2056</th>\n",
       "      <td>82908634</td>\n",
       "      <td>Niyorkona Bora</td>\n",
       "      <td>niyorkonab@gmail.com</td>\n",
       "      <td>16340153</td>\n",
       "      <td>195</td>\n",
       "      <td>Aviation</td>\n",
       "      <td>Revisit</td>\n",
       "      <td>NaN</td>\n",
       "      <td>Graduation</td>\n",
       "      <td>Full Time</td>\n",
       "      <td>...</td>\n",
       "      <td>0</td>\n",
       "      <td>0</td>\n",
       "      <td>47.29.255.95</td>\n",
       "      <td>course_single_page_overview</td>\n",
       "      <td>0.0</td>\n",
       "      <td>0</td>\n",
       "      <td>5718.0</td>\n",
       "      <td>6</td>\n",
       "      <td>30/04/22 22:03</td>\n",
       "      <td>91</td>\n",
       "    </tr>\n",
       "  </tbody>\n",
       "</table>\n",
       "<p>2057 rows × 30 columns</p>\n",
       "</div>"
      ],
      "text/plain": [
       "       lead_id             name                         email   user_id  \\\n",
       "0     80294728        Deva Arun          devatazmin@gmail.com  18889386   \n",
       "1     80297741     Naveed Shafi     naddunaveed1419@gmail.com  21165034   \n",
       "2     80298246          Sneha s  Jessieselvakumar26@gmail.com  17815776   \n",
       "3     80299448      Anjali Nair       anjalinairaps@gmail.com  21094808   \n",
       "4     80299870  Shreyash Pratap           kps.hjp03@gmail.com  19850108   \n",
       "...        ...              ...                           ...       ...   \n",
       "2052  82895278     Srikant Rana       shrikantrana7@gmail.com  21579626   \n",
       "2053  82896006   Yogesh Jaiswal           yjaiswal3@gmail.com  16746904   \n",
       "2054  82899678  Sujal chowdhury    sujalchowdhury72@gmail.com  21262817   \n",
       "2055  82904093   Jessica Dhanak   reginaprincess504@gmail.com  21708054   \n",
       "2056  82908634   Niyorkona Bora          niyorkonab@gmail.com  16340153   \n",
       "\n",
       "      course_id       stream      action  college_id            level  \\\n",
       "0            18  Engineering     Revisit         NaN       Graduation   \n",
       "1             6      Science     Revisit         NaN       Graduation   \n",
       "2            18  Engineering     Revisit         NaN       Graduation   \n",
       "3           195     Aviation  auto_popup         NaN       Graduation   \n",
       "4            15   Management     Revisit         NaN       Graduation   \n",
       "...         ...          ...         ...         ...              ...   \n",
       "2052        120   Management     Revisit         NaN  Post Graduation   \n",
       "2053        195     Aviation     Revisit         NaN       Graduation   \n",
       "2054         18  Engineering     Revisit         NaN       Graduation   \n",
       "2055        195     Aviation     Revisit         NaN       Graduation   \n",
       "2056        195     Aviation     Revisit         NaN       Graduation   \n",
       "\n",
       "           mode  ... study_abroad loan_assistance               ip  \\\n",
       "0     Full Time  ...            0               0    103.85.206.46   \n",
       "1     Full Time  ...            0               0   205.253.26.160   \n",
       "2     Full Time  ...            0               0  223.228.189.170   \n",
       "3     Full Time  ...            0               0    110.225.92.35   \n",
       "4     Full Time  ...            0               0    157.35.17.117   \n",
       "...         ...  ...          ...             ...              ...   \n",
       "2052  Full Time  ...            0               0  106.193.135.232   \n",
       "2053  Full Time  ...            0               0   103.54.145.133   \n",
       "2054  Full Time  ...            0               0    110.224.21.46   \n",
       "2055  Full Time  ...            0               0   106.222.75.208   \n",
       "2056  Full Time  ...            0               0     47.29.255.95   \n",
       "\n",
       "                                       from_page  country  location_from_ip  \\\n",
       "0                    course_single_page_overview      0.0                 0   \n",
       "1                    course_single_page_overview      0.0                 0   \n",
       "2     course_single_page_career_options_and_jobs      0.0                 0   \n",
       "3                                        listing      0.0                 0   \n",
       "4                    course_single_page_overview      0.0                 0   \n",
       "...                                          ...      ...               ...   \n",
       "2052                                     listing      0.0                 0   \n",
       "2053                                     listing      0.0                 0   \n",
       "2054                         stream_article_page      0.0                 0   \n",
       "2055                                     listing      0.0                 0   \n",
       "2056                 course_single_page_overview      0.0                 0   \n",
       "\n",
       "     single_course_id  lead_type      updated_on country_code  \n",
       "0              5721.0          6   01-03-22 8:17           91  \n",
       "1              5721.0          6  01-03-22 10:26           91  \n",
       "2              5721.0          6  01-03-22 10:43           91  \n",
       "3                 NaN          0  01-03-22 11:15           91  \n",
       "4              5718.0          6  01-03-22 11:27           91  \n",
       "...               ...        ...             ...          ...  \n",
       "2052              NaN          6  30/04/22 16:10           91  \n",
       "2053              NaN          6  30/04/22 16:30           91  \n",
       "2054              NaN          6  30/04/22 18:09           91  \n",
       "2055              NaN          6  30/04/22 20:06           91  \n",
       "2056           5718.0          6  30/04/22 22:03           91  \n",
       "\n",
       "[2057 rows x 30 columns]"
      ]
     },
     "execution_count": 917,
     "metadata": {},
     "output_type": "execute_result"
    }
   ],
   "source": [
    "new_data"
   ]
  },
  {
   "cell_type": "code",
   "execution_count": null,
   "id": "b119a3f3",
   "metadata": {},
   "outputs": [],
   "source": []
  },
  {
   "cell_type": "code",
   "execution_count": 918,
   "id": "295adf60",
   "metadata": {},
   "outputs": [],
   "source": [
    "new_data.drop(columns=['email', 'college_id', 'lead_id', 'user_id', 'city', 'name', 'state', 'ip'], inplace=True)"
   ]
  },
  {
   "cell_type": "code",
   "execution_count": 919,
   "id": "bb928702",
   "metadata": {},
   "outputs": [
    {
     "data": {
      "text/html": [
       "<div>\n",
       "<style scoped>\n",
       "    .dataframe tbody tr th:only-of-type {\n",
       "        vertical-align: middle;\n",
       "    }\n",
       "\n",
       "    .dataframe tbody tr th {\n",
       "        vertical-align: top;\n",
       "    }\n",
       "\n",
       "    .dataframe thead th {\n",
       "        text-align: right;\n",
       "    }\n",
       "</style>\n",
       "<table border=\"1\" class=\"dataframe\">\n",
       "  <thead>\n",
       "    <tr style=\"text-align: right;\">\n",
       "      <th></th>\n",
       "      <th>course_id</th>\n",
       "      <th>stream</th>\n",
       "      <th>action</th>\n",
       "      <th>level</th>\n",
       "      <th>mode</th>\n",
       "      <th>city_id</th>\n",
       "      <th>source</th>\n",
       "      <th>is_mobile_verified</th>\n",
       "      <th>is_deleted</th>\n",
       "      <th>created_on</th>\n",
       "      <th>...</th>\n",
       "      <th>referrer</th>\n",
       "      <th>study_abroad</th>\n",
       "      <th>loan_assistance</th>\n",
       "      <th>from_page</th>\n",
       "      <th>country</th>\n",
       "      <th>location_from_ip</th>\n",
       "      <th>single_course_id</th>\n",
       "      <th>lead_type</th>\n",
       "      <th>updated_on</th>\n",
       "      <th>country_code</th>\n",
       "    </tr>\n",
       "  </thead>\n",
       "  <tbody>\n",
       "    <tr>\n",
       "      <th>0</th>\n",
       "      <td>18</td>\n",
       "      <td>Engineering</td>\n",
       "      <td>Revisit</td>\n",
       "      <td>Graduation</td>\n",
       "      <td>Full Time</td>\n",
       "      <td>253</td>\n",
       "      <td>Mobile Web</td>\n",
       "      <td>0</td>\n",
       "      <td>0</td>\n",
       "      <td>01-03-22 8:17</td>\n",
       "      <td>...</td>\n",
       "      <td>https://collegedunia.com/courses/bachelor-of-s...</td>\n",
       "      <td>0</td>\n",
       "      <td>0</td>\n",
       "      <td>course_single_page_overview</td>\n",
       "      <td>0.0</td>\n",
       "      <td>0</td>\n",
       "      <td>5721.0</td>\n",
       "      <td>6</td>\n",
       "      <td>01-03-22 8:17</td>\n",
       "      <td>91</td>\n",
       "    </tr>\n",
       "    <tr>\n",
       "      <th>1</th>\n",
       "      <td>6</td>\n",
       "      <td>Science</td>\n",
       "      <td>Revisit</td>\n",
       "      <td>Graduation</td>\n",
       "      <td>Full Time</td>\n",
       "      <td>200</td>\n",
       "      <td>Mobile Web</td>\n",
       "      <td>0</td>\n",
       "      <td>0</td>\n",
       "      <td>01-03-22 10:26</td>\n",
       "      <td>...</td>\n",
       "      <td>https://collegedunia.com/courses/bachelor-of-s...</td>\n",
       "      <td>0</td>\n",
       "      <td>0</td>\n",
       "      <td>course_single_page_overview</td>\n",
       "      <td>0.0</td>\n",
       "      <td>0</td>\n",
       "      <td>5721.0</td>\n",
       "      <td>6</td>\n",
       "      <td>01-03-22 10:26</td>\n",
       "      <td>91</td>\n",
       "    </tr>\n",
       "    <tr>\n",
       "      <th>2</th>\n",
       "      <td>18</td>\n",
       "      <td>Engineering</td>\n",
       "      <td>Revisit</td>\n",
       "      <td>Graduation</td>\n",
       "      <td>Full Time</td>\n",
       "      <td>471</td>\n",
       "      <td>Mobile Web</td>\n",
       "      <td>0</td>\n",
       "      <td>0</td>\n",
       "      <td>01-03-22 10:43</td>\n",
       "      <td>...</td>\n",
       "      <td>https://collegedunia.com/courses/bachelor-of-s...</td>\n",
       "      <td>0</td>\n",
       "      <td>0</td>\n",
       "      <td>course_single_page_career_options_and_jobs</td>\n",
       "      <td>0.0</td>\n",
       "      <td>0</td>\n",
       "      <td>5721.0</td>\n",
       "      <td>6</td>\n",
       "      <td>01-03-22 10:43</td>\n",
       "      <td>91</td>\n",
       "    </tr>\n",
       "    <tr>\n",
       "      <th>3</th>\n",
       "      <td>195</td>\n",
       "      <td>Aviation</td>\n",
       "      <td>auto_popup</td>\n",
       "      <td>Graduation</td>\n",
       "      <td>Full Time</td>\n",
       "      <td>125</td>\n",
       "      <td>Desktop</td>\n",
       "      <td>0</td>\n",
       "      <td>0</td>\n",
       "      <td>01-03-22 11:15</td>\n",
       "      <td>...</td>\n",
       "      <td>https://collegedunia.com/bba-aviation/pune-col...</td>\n",
       "      <td>0</td>\n",
       "      <td>0</td>\n",
       "      <td>listing</td>\n",
       "      <td>0.0</td>\n",
       "      <td>0</td>\n",
       "      <td>NaN</td>\n",
       "      <td>0</td>\n",
       "      <td>01-03-22 11:15</td>\n",
       "      <td>91</td>\n",
       "    </tr>\n",
       "    <tr>\n",
       "      <th>4</th>\n",
       "      <td>15</td>\n",
       "      <td>Management</td>\n",
       "      <td>Revisit</td>\n",
       "      <td>Graduation</td>\n",
       "      <td>Full Time</td>\n",
       "      <td>95</td>\n",
       "      <td>Desktop</td>\n",
       "      <td>0</td>\n",
       "      <td>0</td>\n",
       "      <td>01-03-22 11:27</td>\n",
       "      <td>...</td>\n",
       "      <td>https://collegedunia.com/courses/bachelor-of-b...</td>\n",
       "      <td>0</td>\n",
       "      <td>0</td>\n",
       "      <td>course_single_page_overview</td>\n",
       "      <td>0.0</td>\n",
       "      <td>0</td>\n",
       "      <td>5718.0</td>\n",
       "      <td>6</td>\n",
       "      <td>01-03-22 11:27</td>\n",
       "      <td>91</td>\n",
       "    </tr>\n",
       "  </tbody>\n",
       "</table>\n",
       "<p>5 rows × 22 columns</p>\n",
       "</div>"
      ],
      "text/plain": [
       "   course_id       stream      action       level       mode  city_id  \\\n",
       "0         18  Engineering     Revisit  Graduation  Full Time      253   \n",
       "1          6      Science     Revisit  Graduation  Full Time      200   \n",
       "2         18  Engineering     Revisit  Graduation  Full Time      471   \n",
       "3        195     Aviation  auto_popup  Graduation  Full Time      125   \n",
       "4         15   Management     Revisit  Graduation  Full Time       95   \n",
       "\n",
       "       source  is_mobile_verified  is_deleted      created_on  ...  \\\n",
       "0  Mobile Web                   0           0   01-03-22 8:17  ...   \n",
       "1  Mobile Web                   0           0  01-03-22 10:26  ...   \n",
       "2  Mobile Web                   0           0  01-03-22 10:43  ...   \n",
       "3     Desktop                   0           0  01-03-22 11:15  ...   \n",
       "4     Desktop                   0           0  01-03-22 11:27  ...   \n",
       "\n",
       "                                            referrer study_abroad  \\\n",
       "0  https://collegedunia.com/courses/bachelor-of-s...            0   \n",
       "1  https://collegedunia.com/courses/bachelor-of-s...            0   \n",
       "2  https://collegedunia.com/courses/bachelor-of-s...            0   \n",
       "3  https://collegedunia.com/bba-aviation/pune-col...            0   \n",
       "4  https://collegedunia.com/courses/bachelor-of-b...            0   \n",
       "\n",
       "  loan_assistance                                   from_page  country  \\\n",
       "0               0                 course_single_page_overview      0.0   \n",
       "1               0                 course_single_page_overview      0.0   \n",
       "2               0  course_single_page_career_options_and_jobs      0.0   \n",
       "3               0                                     listing      0.0   \n",
       "4               0                 course_single_page_overview      0.0   \n",
       "\n",
       "  location_from_ip  single_course_id  lead_type      updated_on  country_code  \n",
       "0                0            5721.0          6   01-03-22 8:17            91  \n",
       "1                0            5721.0          6  01-03-22 10:26            91  \n",
       "2                0            5721.0          6  01-03-22 10:43            91  \n",
       "3                0               NaN          0  01-03-22 11:15            91  \n",
       "4                0            5718.0          6  01-03-22 11:27            91  \n",
       "\n",
       "[5 rows x 22 columns]"
      ]
     },
     "execution_count": 919,
     "metadata": {},
     "output_type": "execute_result"
    }
   ],
   "source": [
    "new_data.head()"
   ]
  },
  {
   "cell_type": "code",
   "execution_count": 920,
   "id": "dd0f2c0e",
   "metadata": {},
   "outputs": [
    {
     "data": {
      "text/plain": [
       "True"
      ]
     },
     "execution_count": 920,
     "metadata": {},
     "output_type": "execute_result"
    }
   ],
   "source": [
    "(new_data['loan_assistance']==0).all()"
   ]
  },
  {
   "cell_type": "code",
   "execution_count": null,
   "id": "7bcfaf1d",
   "metadata": {},
   "outputs": [],
   "source": []
  },
  {
   "cell_type": "code",
   "execution_count": 921,
   "id": "ad9b079b",
   "metadata": {},
   "outputs": [],
   "source": [
    "#check for all zero value\n",
    "# (new_data['location_from_ip']==0).all()\n",
    "\n",
    "def get_column_with_all_zero_value(data_frame=new_data):\n",
    "    column_with_all_zero_value = []\n",
    "    col = data_frame.columns\n",
    "    for i in col:\n",
    "        \n",
    "        if (data_frame[i]==0).all():\n",
    "            column_with_all_zero_value.append(i)\n",
    "        else:\n",
    "            pass\n",
    "    return column_with_all_zero_value       \n",
    "    "
   ]
  },
  {
   "cell_type": "code",
   "execution_count": 922,
   "id": "715ed949",
   "metadata": {},
   "outputs": [],
   "source": [
    "column_with_all_zero_value = get_column_with_all_zero_value(new_data)"
   ]
  },
  {
   "cell_type": "code",
   "execution_count": 923,
   "id": "4405c1f3",
   "metadata": {},
   "outputs": [
    {
     "data": {
      "text/plain": [
       "['is_mobile_verified',\n",
       " 'is_deleted',\n",
       " 'study_abroad',\n",
       " 'loan_assistance',\n",
       " 'location_from_ip']"
      ]
     },
     "execution_count": 923,
     "metadata": {},
     "output_type": "execute_result"
    }
   ],
   "source": [
    "column_with_all_zero_value"
   ]
  },
  {
   "cell_type": "code",
   "execution_count": 924,
   "id": "589336aa",
   "metadata": {},
   "outputs": [],
   "source": [
    "# column_with_all_zero_value has no importance we will drop it\n",
    "new_data.drop(columns=column_with_all_zero_value, inplace=True)"
   ]
  },
  {
   "cell_type": "code",
   "execution_count": 925,
   "id": "81ad36c7",
   "metadata": {},
   "outputs": [
    {
     "data": {
      "text/plain": [
       "Index(['course_id', 'stream', 'action', 'level', 'mode', 'city_id', 'source',\n",
       "       'created_on', 'stream_id', 'course_tag', 'referrer', 'from_page',\n",
       "       'country', 'single_course_id', 'lead_type', 'updated_on',\n",
       "       'country_code'],\n",
       "      dtype='object')"
      ]
     },
     "execution_count": 925,
     "metadata": {},
     "output_type": "execute_result"
    }
   ],
   "source": [
    "new_data.columns"
   ]
  },
  {
   "cell_type": "code",
   "execution_count": 926,
   "id": "5f20d24d",
   "metadata": {},
   "outputs": [],
   "source": [
    "catigorical_data_col = new_data.columns[new_data.dtypes=='object']"
   ]
  },
  {
   "cell_type": "code",
   "execution_count": 927,
   "id": "d4de5644",
   "metadata": {},
   "outputs": [
    {
     "data": {
      "text/plain": [
       "Index(['stream', 'action', 'level', 'mode', 'source', 'created_on',\n",
       "       'course_tag', 'referrer', 'from_page', 'updated_on'],\n",
       "      dtype='object')"
      ]
     },
     "execution_count": 927,
     "metadata": {},
     "output_type": "execute_result"
    }
   ],
   "source": [
    "catigorical_data_col"
   ]
  },
  {
   "cell_type": "code",
   "execution_count": 928,
   "id": "3d4c90ac",
   "metadata": {},
   "outputs": [
    {
     "data": {
      "text/plain": [
       "array(['Engineering', 'Science', 'Aviation', 'Management', 'Arts',\n",
       "       'Commerce', 'Paramedical', 'Medical', 'Computer Applications',\n",
       "       'Pharmacy', 'Design', 'Hotel Management', nan, 'Agriculture',\n",
       "       'Mass Communications', 'Law', 'Dental', 'Veterinary Sciences',\n",
       "       'Education', 'Architecture'], dtype=object)"
      ]
     },
     "execution_count": 928,
     "metadata": {},
     "output_type": "execute_result"
    }
   ],
   "source": [
    "new_data['stream'].unique()"
   ]
  },
  {
   "cell_type": "code",
   "execution_count": 929,
   "id": "2513bd54",
   "metadata": {},
   "outputs": [],
   "source": [
    "# for i in catigorical_data_col:\n",
    "#     print(new_data[i].unique())"
   ]
  },
  {
   "cell_type": "code",
   "execution_count": 930,
   "id": "58baefd7",
   "metadata": {},
   "outputs": [
    {
     "data": {
      "text/plain": [
       "course_id              0\n",
       "stream                18\n",
       "action                 0\n",
       "level                106\n",
       "mode                   0\n",
       "city_id                0\n",
       "source                 0\n",
       "created_on             0\n",
       "stream_id             18\n",
       "course_tag            57\n",
       "referrer               0\n",
       "from_page              6\n",
       "country              272\n",
       "single_course_id    1262\n",
       "lead_type              0\n",
       "updated_on             0\n",
       "country_code           0\n",
       "dtype: int64"
      ]
     },
     "execution_count": 930,
     "metadata": {},
     "output_type": "execute_result"
    }
   ],
   "source": [
    "new_data.isnull().sum()"
   ]
  },
  {
   "cell_type": "code",
   "execution_count": 931,
   "id": "9aab557a",
   "metadata": {},
   "outputs": [
    {
     "data": {
      "text/plain": [
       "array(['Engineering', 'Science', 'Aviation', 'Management', 'Arts',\n",
       "       'Commerce', 'Paramedical', 'Medical', 'Computer Applications',\n",
       "       'Pharmacy', 'Design', 'Hotel Management', nan, 'Agriculture',\n",
       "       'Mass Communications', 'Law', 'Dental', 'Veterinary Sciences',\n",
       "       'Education', 'Architecture'], dtype=object)"
      ]
     },
     "execution_count": 931,
     "metadata": {},
     "output_type": "execute_result"
    }
   ],
   "source": [
    "new_data['stream'].unique()"
   ]
  },
  {
   "cell_type": "code",
   "execution_count": 932,
   "id": "76fb2cb8",
   "metadata": {},
   "outputs": [
    {
     "data": {
      "text/plain": [
       "73     NaN\n",
       "174    NaN\n",
       "467    NaN\n",
       "595    NaN\n",
       "702    NaN\n",
       "994    NaN\n",
       "1156   NaN\n",
       "1305   NaN\n",
       "1315   NaN\n",
       "1356   NaN\n",
       "1606   NaN\n",
       "1614   NaN\n",
       "1739   NaN\n",
       "1757   NaN\n",
       "1828   NaN\n",
       "1920   NaN\n",
       "1926   NaN\n",
       "1936   NaN\n",
       "Name: stream_id, dtype: float64"
      ]
     },
     "execution_count": 932,
     "metadata": {},
     "output_type": "execute_result"
    }
   ],
   "source": [
    "new_data[new_data['stream'].isnull()]['stream_id']"
   ]
  },
  {
   "cell_type": "code",
   "execution_count": 933,
   "id": "19b26f7f",
   "metadata": {},
   "outputs": [
    {
     "data": {
      "text/plain": [
       "73      NaN\n",
       "174     NaN\n",
       "467     NaN\n",
       "595     NaN\n",
       "702     NaN\n",
       "994     NaN\n",
       "1156    NaN\n",
       "1305    NaN\n",
       "1315    NaN\n",
       "1356    NaN\n",
       "1606    NaN\n",
       "1614    NaN\n",
       "1739    NaN\n",
       "1757    NaN\n",
       "1828    NaN\n",
       "1920    NaN\n",
       "1926    NaN\n",
       "1936    NaN\n",
       "Name: stream, dtype: object"
      ]
     },
     "execution_count": 933,
     "metadata": {},
     "output_type": "execute_result"
    }
   ],
   "source": [
    "new_data[new_data['stream_id'].isnull()]['stream']"
   ]
  },
  {
   "cell_type": "code",
   "execution_count": 934,
   "id": "3fe6ceaa",
   "metadata": {},
   "outputs": [],
   "source": [
    "# we have observed that stream and stream_id column are corelated and, and both have 18 missing value in same index,\n",
    "# we decided that we fill null value in 'stream' column with mode, as it is categorical data."
   ]
  },
  {
   "cell_type": "code",
   "execution_count": 935,
   "id": "dcfc942a",
   "metadata": {},
   "outputs": [],
   "source": [
    "\n",
    "new_data['stream'] = new_data['stream'].fillna(new_data['stream'].mode()[0])"
   ]
  },
  {
   "cell_type": "code",
   "execution_count": 936,
   "id": "a23d34fc",
   "metadata": {},
   "outputs": [
    {
     "data": {
      "text/plain": [
       "'Aviation'"
      ]
     },
     "execution_count": 936,
     "metadata": {},
     "output_type": "execute_result"
    }
   ],
   "source": [
    "new_data['stream'].mode()[0]"
   ]
  },
  {
   "cell_type": "code",
   "execution_count": 937,
   "id": "3abfbb52",
   "metadata": {},
   "outputs": [
    {
     "data": {
      "text/plain": [
       "0"
      ]
     },
     "execution_count": 937,
     "metadata": {},
     "output_type": "execute_result"
    }
   ],
   "source": [
    "new_data['stream'].isnull().sum()"
   ]
  },
  {
   "cell_type": "code",
   "execution_count": 938,
   "id": "04b9a6db",
   "metadata": {},
   "outputs": [],
   "source": [
    "# now we convert stream column from catigorical to int with help of stream_id colum and drop stream_id coulmn"
   ]
  },
  {
   "cell_type": "code",
   "execution_count": 939,
   "id": "1c0b6a9e",
   "metadata": {},
   "outputs": [],
   "source": [
    "lst = []\n",
    "for i in new_data[['stream', 'stream_id']].value_counts().index:\n",
    "    lst.append(i)\n",
    "\n",
    "dict_from_steam_stream_id = {}\n",
    "for i in range(len(dd)):\n",
    "    dict_from_steam_stream_id.update({lst[i][0]: lst[i][1]})"
   ]
  },
  {
   "cell_type": "code",
   "execution_count": 940,
   "id": "9c8d73de",
   "metadata": {},
   "outputs": [
    {
     "data": {
      "text/plain": [
       "{'Aviation': 4.0,\n",
       " 'Management': 13.0,\n",
       " 'Science': 18.0,\n",
       " 'Engineering': 10.0,\n",
       " 'Arts': 3.0,\n",
       " 'Computer Applications': 6.0,\n",
       " 'Commerce': 5.0,\n",
       " 'Medical': 15.0,\n",
       " 'Hotel Management': 11.0,\n",
       " 'Pharmacy': 17.0,\n",
       " 'Paramedical': 16.0,\n",
       " 'Law': 12.0,\n",
       " 'Education': 9.0,\n",
       " 'Agriculture': 1.0,\n",
       " 'Design': 8.0,\n",
       " 'Dental': 7.0,\n",
       " 'Mass Communications': 14.0,\n",
       " 'Architecture': 2.0,\n",
       " 'Veterinary Sciences': 19.0}"
      ]
     },
     "execution_count": 940,
     "metadata": {},
     "output_type": "execute_result"
    }
   ],
   "source": [
    "dict_from_steam_stream_id"
   ]
  },
  {
   "cell_type": "code",
   "execution_count": 941,
   "id": "894dcd7e",
   "metadata": {},
   "outputs": [],
   "source": [
    "# now we are mapping it to stream column"
   ]
  },
  {
   "cell_type": "code",
   "execution_count": 942,
   "id": "677703a7",
   "metadata": {},
   "outputs": [],
   "source": [
    "new_data['stream'] = new_data['stream'].map(dict_from_steam_stream_id)"
   ]
  },
  {
   "cell_type": "code",
   "execution_count": 943,
   "id": "a5e96fc5",
   "metadata": {},
   "outputs": [
    {
     "data": {
      "text/html": [
       "<div>\n",
       "<style scoped>\n",
       "    .dataframe tbody tr th:only-of-type {\n",
       "        vertical-align: middle;\n",
       "    }\n",
       "\n",
       "    .dataframe tbody tr th {\n",
       "        vertical-align: top;\n",
       "    }\n",
       "\n",
       "    .dataframe thead th {\n",
       "        text-align: right;\n",
       "    }\n",
       "</style>\n",
       "<table border=\"1\" class=\"dataframe\">\n",
       "  <thead>\n",
       "    <tr style=\"text-align: right;\">\n",
       "      <th></th>\n",
       "      <th>stream</th>\n",
       "      <th>stream_id</th>\n",
       "    </tr>\n",
       "  </thead>\n",
       "  <tbody>\n",
       "    <tr>\n",
       "      <th>0</th>\n",
       "      <td>10.0</td>\n",
       "      <td>10.0</td>\n",
       "    </tr>\n",
       "    <tr>\n",
       "      <th>1</th>\n",
       "      <td>18.0</td>\n",
       "      <td>18.0</td>\n",
       "    </tr>\n",
       "    <tr>\n",
       "      <th>2</th>\n",
       "      <td>10.0</td>\n",
       "      <td>10.0</td>\n",
       "    </tr>\n",
       "    <tr>\n",
       "      <th>3</th>\n",
       "      <td>4.0</td>\n",
       "      <td>4.0</td>\n",
       "    </tr>\n",
       "    <tr>\n",
       "      <th>4</th>\n",
       "      <td>13.0</td>\n",
       "      <td>13.0</td>\n",
       "    </tr>\n",
       "    <tr>\n",
       "      <th>...</th>\n",
       "      <td>...</td>\n",
       "      <td>...</td>\n",
       "    </tr>\n",
       "    <tr>\n",
       "      <th>2052</th>\n",
       "      <td>13.0</td>\n",
       "      <td>13.0</td>\n",
       "    </tr>\n",
       "    <tr>\n",
       "      <th>2053</th>\n",
       "      <td>4.0</td>\n",
       "      <td>4.0</td>\n",
       "    </tr>\n",
       "    <tr>\n",
       "      <th>2054</th>\n",
       "      <td>10.0</td>\n",
       "      <td>10.0</td>\n",
       "    </tr>\n",
       "    <tr>\n",
       "      <th>2055</th>\n",
       "      <td>4.0</td>\n",
       "      <td>4.0</td>\n",
       "    </tr>\n",
       "    <tr>\n",
       "      <th>2056</th>\n",
       "      <td>4.0</td>\n",
       "      <td>4.0</td>\n",
       "    </tr>\n",
       "  </tbody>\n",
       "</table>\n",
       "<p>2057 rows × 2 columns</p>\n",
       "</div>"
      ],
      "text/plain": [
       "      stream  stream_id\n",
       "0       10.0       10.0\n",
       "1       18.0       18.0\n",
       "2       10.0       10.0\n",
       "3        4.0        4.0\n",
       "4       13.0       13.0\n",
       "...      ...        ...\n",
       "2052    13.0       13.0\n",
       "2053     4.0        4.0\n",
       "2054    10.0       10.0\n",
       "2055     4.0        4.0\n",
       "2056     4.0        4.0\n",
       "\n",
       "[2057 rows x 2 columns]"
      ]
     },
     "execution_count": 943,
     "metadata": {},
     "output_type": "execute_result"
    }
   ],
   "source": [
    "new_data[['stream', 'stream_id']]"
   ]
  },
  {
   "cell_type": "code",
   "execution_count": 944,
   "id": "886ecc9a",
   "metadata": {},
   "outputs": [],
   "source": [
    "# droping the stream_id"
   ]
  },
  {
   "cell_type": "code",
   "execution_count": 945,
   "id": "aaa61868",
   "metadata": {},
   "outputs": [],
   "source": [
    "new_data.drop(columns=['stream_id'], inplace=True)"
   ]
  },
  {
   "cell_type": "code",
   "execution_count": null,
   "id": "bc0a32a5",
   "metadata": {},
   "outputs": [],
   "source": []
  },
  {
   "cell_type": "code",
   "execution_count": 946,
   "id": "75488dac",
   "metadata": {},
   "outputs": [
    {
     "data": {
      "text/plain": [
       "Graduation         1727\n",
       "Post Graduation     224\n",
       "Name: level, dtype: int64"
      ]
     },
     "execution_count": 946,
     "metadata": {},
     "output_type": "execute_result"
    }
   ],
   "source": [
    "new_data['level'].value_counts()"
   ]
  },
  {
   "cell_type": "code",
   "execution_count": 947,
   "id": "d4b37ec0",
   "metadata": {},
   "outputs": [],
   "source": [
    "# new_data['level'] = new_data['level'].fillna(new_data['level'].mode()[0])"
   ]
  },
  {
   "cell_type": "code",
   "execution_count": 948,
   "id": "a3858ba0",
   "metadata": {},
   "outputs": [
    {
     "data": {
      "text/plain": [
       "Graduation         1727\n",
       "Post Graduation     224\n",
       "Name: level, dtype: int64"
      ]
     },
     "execution_count": 948,
     "metadata": {},
     "output_type": "execute_result"
    }
   ],
   "source": [
    "new_data['level'].value_counts()"
   ]
  },
  {
   "cell_type": "code",
   "execution_count": 949,
   "id": "a26237a7",
   "metadata": {},
   "outputs": [
    {
     "data": {
      "text/html": [
       "<div>\n",
       "<style scoped>\n",
       "    .dataframe tbody tr th:only-of-type {\n",
       "        vertical-align: middle;\n",
       "    }\n",
       "\n",
       "    .dataframe tbody tr th {\n",
       "        vertical-align: top;\n",
       "    }\n",
       "\n",
       "    .dataframe thead th {\n",
       "        text-align: right;\n",
       "    }\n",
       "</style>\n",
       "<table border=\"1\" class=\"dataframe\">\n",
       "  <thead>\n",
       "    <tr style=\"text-align: right;\">\n",
       "      <th></th>\n",
       "      <th>course_tag</th>\n",
       "      <th>level</th>\n",
       "    </tr>\n",
       "  </thead>\n",
       "  <tbody>\n",
       "    <tr>\n",
       "      <th>0</th>\n",
       "      <td>BE/B.Tech</td>\n",
       "      <td>Graduation</td>\n",
       "    </tr>\n",
       "    <tr>\n",
       "      <th>1</th>\n",
       "      <td>B.Sc</td>\n",
       "      <td>Graduation</td>\n",
       "    </tr>\n",
       "    <tr>\n",
       "      <th>2</th>\n",
       "      <td>BE/B.Tech</td>\n",
       "      <td>Graduation</td>\n",
       "    </tr>\n",
       "    <tr>\n",
       "      <th>3</th>\n",
       "      <td>BBA (Aviation)</td>\n",
       "      <td>Graduation</td>\n",
       "    </tr>\n",
       "    <tr>\n",
       "      <th>4</th>\n",
       "      <td>BBA/BBM</td>\n",
       "      <td>Graduation</td>\n",
       "    </tr>\n",
       "    <tr>\n",
       "      <th>...</th>\n",
       "      <td>...</td>\n",
       "      <td>...</td>\n",
       "    </tr>\n",
       "    <tr>\n",
       "      <th>2052</th>\n",
       "      <td>MBA/PGDM</td>\n",
       "      <td>Post Graduation</td>\n",
       "    </tr>\n",
       "    <tr>\n",
       "      <th>2053</th>\n",
       "      <td>BBA (Aviation)</td>\n",
       "      <td>Graduation</td>\n",
       "    </tr>\n",
       "    <tr>\n",
       "      <th>2054</th>\n",
       "      <td>BE/B.Tech</td>\n",
       "      <td>Graduation</td>\n",
       "    </tr>\n",
       "    <tr>\n",
       "      <th>2055</th>\n",
       "      <td>BBA (Aviation)</td>\n",
       "      <td>Graduation</td>\n",
       "    </tr>\n",
       "    <tr>\n",
       "      <th>2056</th>\n",
       "      <td>BBA (Aviation)</td>\n",
       "      <td>Graduation</td>\n",
       "    </tr>\n",
       "  </tbody>\n",
       "</table>\n",
       "<p>2057 rows × 2 columns</p>\n",
       "</div>"
      ],
      "text/plain": [
       "          course_tag            level\n",
       "0          BE/B.Tech       Graduation\n",
       "1               B.Sc       Graduation\n",
       "2          BE/B.Tech       Graduation\n",
       "3     BBA (Aviation)       Graduation\n",
       "4            BBA/BBM       Graduation\n",
       "...              ...              ...\n",
       "2052        MBA/PGDM  Post Graduation\n",
       "2053  BBA (Aviation)       Graduation\n",
       "2054       BE/B.Tech       Graduation\n",
       "2055  BBA (Aviation)       Graduation\n",
       "2056  BBA (Aviation)       Graduation\n",
       "\n",
       "[2057 rows x 2 columns]"
      ]
     },
     "execution_count": 949,
     "metadata": {},
     "output_type": "execute_result"
    }
   ],
   "source": [
    "new_data[['course_tag', 'level']]"
   ]
  },
  {
   "cell_type": "code",
   "execution_count": 950,
   "id": "098947f2",
   "metadata": {},
   "outputs": [],
   "source": [
    "##It observed that course_tag and level is corellated"
   ]
  },
  {
   "cell_type": "code",
   "execution_count": 951,
   "id": "31cf06b4",
   "metadata": {},
   "outputs": [],
   "source": [
    "#so we are filling level null value with help of course_tag column"
   ]
  },
  {
   "cell_type": "code",
   "execution_count": 952,
   "id": "4387b37e",
   "metadata": {},
   "outputs": [
    {
     "data": {
      "text/plain": [
       "True"
      ]
     },
     "execution_count": 952,
     "metadata": {},
     "output_type": "execute_result"
    }
   ],
   "source": [
    "new_data['level'].isnull()[98]"
   ]
  },
  {
   "cell_type": "code",
   "execution_count": 953,
   "id": "cd844ca8",
   "metadata": {},
   "outputs": [
    {
     "data": {
      "text/plain": [
       "False"
      ]
     },
     "execution_count": 953,
     "metadata": {},
     "output_type": "execute_result"
    }
   ],
   "source": [
    "new_data['course_tag'].isnull()[98]"
   ]
  },
  {
   "cell_type": "code",
   "execution_count": 954,
   "id": "759a3704",
   "metadata": {},
   "outputs": [
    {
     "data": {
      "text/plain": [
       "False"
      ]
     },
     "execution_count": 954,
     "metadata": {},
     "output_type": "execute_result"
    }
   ],
   "source": [
    "new_data['course_tag'].isnull()[98]"
   ]
  },
  {
   "cell_type": "code",
   "execution_count": 955,
   "id": "7b80829a",
   "metadata": {},
   "outputs": [
    {
     "data": {
      "text/plain": [
       "'BE/B.Tech'"
      ]
     },
     "execution_count": 955,
     "metadata": {},
     "output_type": "execute_result"
    }
   ],
   "source": [
    "i=10\n",
    "new_data.loc[i,'course_tag']"
   ]
  },
  {
   "cell_type": "code",
   "execution_count": null,
   "id": "b3966760",
   "metadata": {},
   "outputs": [],
   "source": []
  },
  {
   "cell_type": "code",
   "execution_count": 956,
   "id": "6c4c5c2e",
   "metadata": {},
   "outputs": [],
   "source": [
    "for i in new_data.index:\n",
    "    if new_data['level'].isnull()[i]:\n",
    "        if not(new_data['course_tag'].isnull()[i]):\n",
    "            \n",
    "            new_data.loc[i,'level'] = new_data.loc[i,'course_tag'][:8]\n",
    "            \n",
    "    else:\n",
    "        \n",
    "        pass\n",
    "    \n",
    "    \n"
   ]
  },
  {
   "cell_type": "code",
   "execution_count": 957,
   "id": "31f13221",
   "metadata": {},
   "outputs": [],
   "source": [
    "# for i in ll.index:\n",
    "#     if type(ll.loc[i]['course_tag'])!=str:\n",
    "#         pass\n",
    "#     else:\n",
    "        \n",
    "#         ll['level'].loc[i] = ll.loc[i]['course_tag'][:8]\n",
    "    \n",
    "    \n"
   ]
  },
  {
   "cell_type": "code",
   "execution_count": 958,
   "id": "79b2e39f",
   "metadata": {},
   "outputs": [
    {
     "data": {
      "text/plain": [
       "course_id              0\n",
       "stream                 0\n",
       "action                 0\n",
       "level                 57\n",
       "mode                   0\n",
       "city_id                0\n",
       "source                 0\n",
       "created_on             0\n",
       "course_tag            57\n",
       "referrer               0\n",
       "from_page              6\n",
       "country              272\n",
       "single_course_id    1262\n",
       "lead_type              0\n",
       "updated_on             0\n",
       "country_code           0\n",
       "dtype: int64"
      ]
     },
     "execution_count": 958,
     "metadata": {},
     "output_type": "execute_result"
    }
   ],
   "source": [
    "new_data.isnull().sum()"
   ]
  },
  {
   "cell_type": "code",
   "execution_count": null,
   "id": "eee42ae4",
   "metadata": {},
   "outputs": [],
   "source": []
  },
  {
   "cell_type": "code",
   "execution_count": 959,
   "id": "3a166aa4",
   "metadata": {},
   "outputs": [],
   "source": [
    "## Now we map these value of level column as below\n",
    "new_data['level'] = new_data['level'].map({'Graduate': 'Graduation', 'Certific': 'Diploma', 'UG Certi': 'Graduation', 'Diploma ': 'Diploma', 'M.Phil/P': 'Post Graduation',\n",
    "       'UG Diplo': 'Diploma', 'PG Diplo':'Post Graduation', 'Post Graduation': 'Post Graduation', 'Graduation': 'Graduation'})"
   ]
  },
  {
   "cell_type": "code",
   "execution_count": null,
   "id": "c71fa416",
   "metadata": {},
   "outputs": [],
   "source": []
  },
  {
   "cell_type": "code",
   "execution_count": 960,
   "id": "85a5f427",
   "metadata": {},
   "outputs": [
    {
     "data": {
      "text/plain": [
       "Graduation         1751\n",
       "Post Graduation     240\n",
       "Diploma               8\n",
       "Name: level, dtype: int64"
      ]
     },
     "execution_count": 960,
     "metadata": {},
     "output_type": "execute_result"
    }
   ],
   "source": [
    "new_data['level'].value_counts()"
   ]
  },
  {
   "cell_type": "code",
   "execution_count": 961,
   "id": "5d22fb0f",
   "metadata": {},
   "outputs": [
    {
     "data": {
      "text/plain": [
       "course_id              0\n",
       "stream                 0\n",
       "action                 0\n",
       "level                 58\n",
       "mode                   0\n",
       "city_id                0\n",
       "source                 0\n",
       "created_on             0\n",
       "course_tag            57\n",
       "referrer               0\n",
       "from_page              6\n",
       "country              272\n",
       "single_course_id    1262\n",
       "lead_type              0\n",
       "updated_on             0\n",
       "country_code           0\n",
       "dtype: int64"
      ]
     },
     "execution_count": 961,
     "metadata": {},
     "output_type": "execute_result"
    }
   ],
   "source": [
    "new_data.isnull().sum()"
   ]
  },
  {
   "cell_type": "code",
   "execution_count": 962,
   "id": "111ecf74",
   "metadata": {},
   "outputs": [],
   "source": [
    "# Now level column have only 58 missing value, these value filled by mode"
   ]
  },
  {
   "cell_type": "code",
   "execution_count": 963,
   "id": "ea0f6371",
   "metadata": {},
   "outputs": [],
   "source": [
    "new_data['level'] = new_data['level'].fillna(new_data['level'].mode()[0])"
   ]
  },
  {
   "cell_type": "code",
   "execution_count": 964,
   "id": "24c9ab75",
   "metadata": {},
   "outputs": [
    {
     "data": {
      "text/plain": [
       "course_id              0\n",
       "stream                 0\n",
       "action                 0\n",
       "level                  0\n",
       "mode                   0\n",
       "city_id                0\n",
       "source                 0\n",
       "created_on             0\n",
       "course_tag            57\n",
       "referrer               0\n",
       "from_page              6\n",
       "country              272\n",
       "single_course_id    1262\n",
       "lead_type              0\n",
       "updated_on             0\n",
       "country_code           0\n",
       "dtype: int64"
      ]
     },
     "execution_count": 964,
     "metadata": {},
     "output_type": "execute_result"
    }
   ],
   "source": [
    "new_data.isnull().sum()"
   ]
  },
  {
   "cell_type": "code",
   "execution_count": 965,
   "id": "d25067d5",
   "metadata": {},
   "outputs": [
    {
     "data": {
      "text/plain": [
       "Graduation         1809\n",
       "Post Graduation     240\n",
       "Diploma               8\n",
       "Name: level, dtype: int64"
      ]
     },
     "execution_count": 965,
     "metadata": {},
     "output_type": "execute_result"
    }
   ],
   "source": [
    "new_data['level'].value_counts()"
   ]
  },
  {
   "cell_type": "code",
   "execution_count": 966,
   "id": "25665e68",
   "metadata": {},
   "outputs": [],
   "source": [
    "# course_tag and level correlated so we are droping the course_tag column"
   ]
  },
  {
   "cell_type": "code",
   "execution_count": 967,
   "id": "d466abe5",
   "metadata": {},
   "outputs": [],
   "source": [
    "new_data.drop(columns=['course_tag'], inplace=True)"
   ]
  },
  {
   "cell_type": "code",
   "execution_count": 968,
   "id": "6d6a8227",
   "metadata": {},
   "outputs": [
    {
     "data": {
      "text/plain": [
       "False"
      ]
     },
     "execution_count": 968,
     "metadata": {},
     "output_type": "execute_result"
    }
   ],
   "source": [
    "(new_data['country']==0).all()"
   ]
  },
  {
   "cell_type": "code",
   "execution_count": 969,
   "id": "e41b0a61",
   "metadata": {},
   "outputs": [],
   "source": [
    "# as country coulumn have 1785 zeros and 272 NaN value so we can say there is no information provided by this column, we are droping it"
   ]
  },
  {
   "cell_type": "code",
   "execution_count": 970,
   "id": "e7841f1f",
   "metadata": {},
   "outputs": [
    {
     "data": {
      "text/plain": [
       "0.0    1785\n",
       "Name: country, dtype: int64"
      ]
     },
     "execution_count": 970,
     "metadata": {},
     "output_type": "execute_result"
    }
   ],
   "source": [
    "new_data['country'].value_counts()"
   ]
  },
  {
   "cell_type": "code",
   "execution_count": 971,
   "id": "c92d0527",
   "metadata": {},
   "outputs": [
    {
     "data": {
      "text/plain": [
       "2057"
      ]
     },
     "execution_count": 971,
     "metadata": {},
     "output_type": "execute_result"
    }
   ],
   "source": [
    "1785 + 272"
   ]
  },
  {
   "cell_type": "code",
   "execution_count": 972,
   "id": "c4d099a1",
   "metadata": {},
   "outputs": [],
   "source": [
    "new_data.drop(columns=['country'], inplace=True)"
   ]
  },
  {
   "cell_type": "code",
   "execution_count": 973,
   "id": "24fe1e6b",
   "metadata": {},
   "outputs": [
    {
     "data": {
      "text/plain": [
       "course_id              0\n",
       "stream                 0\n",
       "action                 0\n",
       "level                  0\n",
       "mode                   0\n",
       "city_id                0\n",
       "source                 0\n",
       "created_on             0\n",
       "referrer               0\n",
       "from_page              6\n",
       "single_course_id    1262\n",
       "lead_type              0\n",
       "updated_on             0\n",
       "country_code           0\n",
       "dtype: int64"
      ]
     },
     "execution_count": 973,
     "metadata": {},
     "output_type": "execute_result"
    }
   ],
   "source": [
    "new_data.isnull().sum()"
   ]
  },
  {
   "cell_type": "code",
   "execution_count": 974,
   "id": "d455cc1a",
   "metadata": {},
   "outputs": [
    {
     "data": {
      "text/plain": [
       "5718.0    299\n",
       "5721.0    214\n",
       "1328.0    117\n",
       "5740.0     90\n",
       "5742.0     48\n",
       "5724.0     25\n",
       "5779.0      1\n",
       "1392.0      1\n",
       "Name: single_course_id, dtype: int64"
      ]
     },
     "execution_count": 974,
     "metadata": {},
     "output_type": "execute_result"
    }
   ],
   "source": [
    "new_data['single_course_id'].value_counts()"
   ]
  },
  {
   "cell_type": "code",
   "execution_count": 975,
   "id": "813dd790",
   "metadata": {},
   "outputs": [
    {
     "data": {
      "text/plain": [
       "0       5721.0\n",
       "1       5721.0\n",
       "2       5721.0\n",
       "3          NaN\n",
       "4       5718.0\n",
       "         ...  \n",
       "2052       NaN\n",
       "2053       NaN\n",
       "2054       NaN\n",
       "2055       NaN\n",
       "2056    5718.0\n",
       "Name: single_course_id, Length: 2057, dtype: float64"
      ]
     },
     "execution_count": 975,
     "metadata": {},
     "output_type": "execute_result"
    }
   ],
   "source": [
    "new_data['single_course_id']"
   ]
  },
  {
   "cell_type": "code",
   "execution_count": 976,
   "id": "9488960b",
   "metadata": {},
   "outputs": [],
   "source": [
    "# as single_course_id is categorical feature so we are using mode to replace NaN"
   ]
  },
  {
   "cell_type": "code",
   "execution_count": 977,
   "id": "aac1b02b",
   "metadata": {},
   "outputs": [],
   "source": [
    "new_data['single_course_id'] = new_data['single_course_id'].fillna(new_data['single_course_id'].mode()[0])"
   ]
  },
  {
   "cell_type": "code",
   "execution_count": 978,
   "id": "5e6b7027",
   "metadata": {},
   "outputs": [
    {
     "data": {
      "text/plain": [
       "0"
      ]
     },
     "execution_count": 978,
     "metadata": {},
     "output_type": "execute_result"
    }
   ],
   "source": [
    "new_data['single_course_id'].isnull().sum()"
   ]
  },
  {
   "cell_type": "code",
   "execution_count": 979,
   "id": "9c993c3a",
   "metadata": {},
   "outputs": [
    {
     "data": {
      "text/plain": [
       "course_id           0\n",
       "stream              0\n",
       "action              0\n",
       "level               0\n",
       "mode                0\n",
       "city_id             0\n",
       "source              0\n",
       "created_on          0\n",
       "referrer            0\n",
       "from_page           6\n",
       "single_course_id    0\n",
       "lead_type           0\n",
       "updated_on          0\n",
       "country_code        0\n",
       "dtype: int64"
      ]
     },
     "execution_count": 979,
     "metadata": {},
     "output_type": "execute_result"
    }
   ],
   "source": [
    "new_data.isnull().sum()"
   ]
  },
  {
   "cell_type": "code",
   "execution_count": 980,
   "id": "abfa151a",
   "metadata": {},
   "outputs": [
    {
     "data": {
      "text/plain": [
       "course_single_page_overview                           813\n",
       "listing                                               764\n",
       "stream_article_page                                   204\n",
       "stream_single_page_overview                            97\n",
       "course_single_page_career_options_and_jobs             44\n",
       "course_single_page_syllabus                            27\n",
       "Mail                                                   26\n",
       "stream_single_page_aviation_jobs_in_india              17\n",
       "stream_single_page_aviation_courses_in_kerala          10\n",
       "course_single_page_how_to_be_a_air_cabin_crew           8\n",
       "stream_single_page_aviation_courses_after_12th          6\n",
       "homepage                                                5\n",
       "course_single_page_distance_education                   5\n",
       "exams_news                                              3\n",
       "stream_page                                             2\n",
       "college_reviews_page                                    2\n",
       "college_courses_fees_page                               2\n",
       "college_home_page                                       2\n",
       "college_course_slug_page                                2\n",
       "course_single_page_how_to_become_an_aviation_consu      2\n",
       "homepage_bba_aviation_courses                           2\n",
       "course_single_page_admission_process                    2\n",
       "course_listing                                          2\n",
       "stream_single_page_aviation_courses_on_udemy            1\n",
       "stream_single_page_aviation_management_salary           1\n",
       "course_single_page_how_to_become_an_airport_operat      1\n",
       "course_single_page_how_to_become_an_avionics_techn      1\n",
       "Name: from_page, dtype: int64"
      ]
     },
     "execution_count": 980,
     "metadata": {},
     "output_type": "execute_result"
    }
   ],
   "source": [
    "new_data['from_page'].value_counts()"
   ]
  },
  {
   "cell_type": "code",
   "execution_count": 981,
   "id": "c0e50a44",
   "metadata": {},
   "outputs": [],
   "source": [
    "## filling null value with mode\n",
    "new_data['from_page'] = new_data['from_page'].fillna(new_data['from_page'].mode()[0])"
   ]
  },
  {
   "cell_type": "code",
   "execution_count": 982,
   "id": "e7797cf9",
   "metadata": {},
   "outputs": [],
   "source": [
    "# using sklearn preprocessing lib to encode catigorical data"
   ]
  },
  {
   "cell_type": "code",
   "execution_count": 983,
   "id": "0e11a314",
   "metadata": {},
   "outputs": [
    {
     "data": {
      "text/plain": [
       "array([13,  7, 18, 26,  5, 19,  0, 22, 24, 14, 16,  9,  6,  1, 15, 21, 17,\n",
       "       11, 20, 23,  3,  8, 25,  4,  2, 10, 12])"
      ]
     },
     "execution_count": 983,
     "metadata": {},
     "output_type": "execute_result"
    }
   ],
   "source": [
    "from sklearn import preprocessing\n",
    "  \n",
    "label_encoder = preprocessing.LabelEncoder()\n",
    "  \n",
    "new_data['from_page']= label_encoder.fit_transform(new_data['from_page'])\n",
    "  \n",
    "new_data['from_page'].unique()"
   ]
  },
  {
   "cell_type": "code",
   "execution_count": 984,
   "id": "66e08cf0",
   "metadata": {},
   "outputs": [
    {
     "data": {
      "text/plain": [
       "0"
      ]
     },
     "execution_count": 984,
     "metadata": {},
     "output_type": "execute_result"
    }
   ],
   "source": [
    "new_data['from_page'].isnull().sum()"
   ]
  },
  {
   "cell_type": "code",
   "execution_count": 985,
   "id": "1191c6a3",
   "metadata": {},
   "outputs": [
    {
     "data": {
      "text/plain": [
       "course_id           0\n",
       "stream              0\n",
       "action              0\n",
       "level               0\n",
       "mode                0\n",
       "city_id             0\n",
       "source              0\n",
       "created_on          0\n",
       "referrer            0\n",
       "from_page           0\n",
       "single_course_id    0\n",
       "lead_type           0\n",
       "updated_on          0\n",
       "country_code        0\n",
       "dtype: int64"
      ]
     },
     "execution_count": 985,
     "metadata": {},
     "output_type": "execute_result"
    }
   ],
   "source": [
    "new_data.isnull().sum()"
   ]
  },
  {
   "cell_type": "code",
   "execution_count": 986,
   "id": "badd5d36",
   "metadata": {},
   "outputs": [
    {
     "data": {
      "text/plain": [
       "1"
      ]
     },
     "execution_count": 986,
     "metadata": {},
     "output_type": "execute_result"
    }
   ],
   "source": [
    "new_data['country_code'].nunique()"
   ]
  },
  {
   "cell_type": "code",
   "execution_count": 987,
   "id": "3ef8f4c0",
   "metadata": {},
   "outputs": [
    {
     "data": {
      "text/plain": [
       "91    2057\n",
       "Name: country_code, dtype: int64"
      ]
     },
     "execution_count": 987,
     "metadata": {},
     "output_type": "execute_result"
    }
   ],
   "source": [
    "new_data['country_code'].value_counts()"
   ]
  },
  {
   "cell_type": "code",
   "execution_count": 988,
   "id": "3f9c783b",
   "metadata": {},
   "outputs": [
    {
     "data": {
      "text/plain": [
       "Index(['course_id', 'stream', 'action', 'level', 'mode', 'city_id', 'source',\n",
       "       'created_on', 'referrer', 'from_page', 'single_course_id', 'lead_type',\n",
       "       'updated_on', 'country_code'],\n",
       "      dtype='object')"
      ]
     },
     "execution_count": 988,
     "metadata": {},
     "output_type": "execute_result"
    }
   ],
   "source": [
    "new_data.columns"
   ]
  },
  {
   "cell_type": "code",
   "execution_count": 989,
   "id": "68946f5d",
   "metadata": {},
   "outputs": [],
   "source": [
    "# As alldata in country_code is same, so it has no use"
   ]
  },
  {
   "cell_type": "code",
   "execution_count": 990,
   "id": "b539aefb",
   "metadata": {},
   "outputs": [],
   "source": [
    "new_data.drop(columns=['country_code', 'referrer', 'updated_on'], inplace=True)"
   ]
  },
  {
   "cell_type": "code",
   "execution_count": 991,
   "id": "6ff88a4e",
   "metadata": {},
   "outputs": [
    {
     "data": {
      "text/html": [
       "<div>\n",
       "<style scoped>\n",
       "    .dataframe tbody tr th:only-of-type {\n",
       "        vertical-align: middle;\n",
       "    }\n",
       "\n",
       "    .dataframe tbody tr th {\n",
       "        vertical-align: top;\n",
       "    }\n",
       "\n",
       "    .dataframe thead th {\n",
       "        text-align: right;\n",
       "    }\n",
       "</style>\n",
       "<table border=\"1\" class=\"dataframe\">\n",
       "  <thead>\n",
       "    <tr style=\"text-align: right;\">\n",
       "      <th></th>\n",
       "      <th>course_id</th>\n",
       "      <th>stream</th>\n",
       "      <th>action</th>\n",
       "      <th>level</th>\n",
       "      <th>mode</th>\n",
       "      <th>city_id</th>\n",
       "      <th>source</th>\n",
       "      <th>created_on</th>\n",
       "      <th>from_page</th>\n",
       "      <th>single_course_id</th>\n",
       "      <th>lead_type</th>\n",
       "    </tr>\n",
       "  </thead>\n",
       "  <tbody>\n",
       "    <tr>\n",
       "      <th>0</th>\n",
       "      <td>18</td>\n",
       "      <td>10.0</td>\n",
       "      <td>Revisit</td>\n",
       "      <td>Graduation</td>\n",
       "      <td>Full Time</td>\n",
       "      <td>253</td>\n",
       "      <td>Mobile Web</td>\n",
       "      <td>01-03-22 8:17</td>\n",
       "      <td>13</td>\n",
       "      <td>5721.0</td>\n",
       "      <td>6</td>\n",
       "    </tr>\n",
       "    <tr>\n",
       "      <th>1</th>\n",
       "      <td>6</td>\n",
       "      <td>18.0</td>\n",
       "      <td>Revisit</td>\n",
       "      <td>Graduation</td>\n",
       "      <td>Full Time</td>\n",
       "      <td>200</td>\n",
       "      <td>Mobile Web</td>\n",
       "      <td>01-03-22 10:26</td>\n",
       "      <td>13</td>\n",
       "      <td>5721.0</td>\n",
       "      <td>6</td>\n",
       "    </tr>\n",
       "    <tr>\n",
       "      <th>2</th>\n",
       "      <td>18</td>\n",
       "      <td>10.0</td>\n",
       "      <td>Revisit</td>\n",
       "      <td>Graduation</td>\n",
       "      <td>Full Time</td>\n",
       "      <td>471</td>\n",
       "      <td>Mobile Web</td>\n",
       "      <td>01-03-22 10:43</td>\n",
       "      <td>7</td>\n",
       "      <td>5721.0</td>\n",
       "      <td>6</td>\n",
       "    </tr>\n",
       "    <tr>\n",
       "      <th>3</th>\n",
       "      <td>195</td>\n",
       "      <td>4.0</td>\n",
       "      <td>auto_popup</td>\n",
       "      <td>Graduation</td>\n",
       "      <td>Full Time</td>\n",
       "      <td>125</td>\n",
       "      <td>Desktop</td>\n",
       "      <td>01-03-22 11:15</td>\n",
       "      <td>18</td>\n",
       "      <td>5718.0</td>\n",
       "      <td>0</td>\n",
       "    </tr>\n",
       "    <tr>\n",
       "      <th>4</th>\n",
       "      <td>15</td>\n",
       "      <td>13.0</td>\n",
       "      <td>Revisit</td>\n",
       "      <td>Graduation</td>\n",
       "      <td>Full Time</td>\n",
       "      <td>95</td>\n",
       "      <td>Desktop</td>\n",
       "      <td>01-03-22 11:27</td>\n",
       "      <td>13</td>\n",
       "      <td>5718.0</td>\n",
       "      <td>6</td>\n",
       "    </tr>\n",
       "    <tr>\n",
       "      <th>...</th>\n",
       "      <td>...</td>\n",
       "      <td>...</td>\n",
       "      <td>...</td>\n",
       "      <td>...</td>\n",
       "      <td>...</td>\n",
       "      <td>...</td>\n",
       "      <td>...</td>\n",
       "      <td>...</td>\n",
       "      <td>...</td>\n",
       "      <td>...</td>\n",
       "      <td>...</td>\n",
       "    </tr>\n",
       "    <tr>\n",
       "      <th>2052</th>\n",
       "      <td>120</td>\n",
       "      <td>13.0</td>\n",
       "      <td>Revisit</td>\n",
       "      <td>Post Graduation</td>\n",
       "      <td>Full Time</td>\n",
       "      <td>336</td>\n",
       "      <td>Mobile Web</td>\n",
       "      <td>30/04/22 16:10</td>\n",
       "      <td>18</td>\n",
       "      <td>5718.0</td>\n",
       "      <td>6</td>\n",
       "    </tr>\n",
       "    <tr>\n",
       "      <th>2053</th>\n",
       "      <td>195</td>\n",
       "      <td>4.0</td>\n",
       "      <td>Revisit</td>\n",
       "      <td>Graduation</td>\n",
       "      <td>Full Time</td>\n",
       "      <td>125</td>\n",
       "      <td>Mobile Web</td>\n",
       "      <td>30/04/22 16:30</td>\n",
       "      <td>18</td>\n",
       "      <td>5718.0</td>\n",
       "      <td>6</td>\n",
       "    </tr>\n",
       "    <tr>\n",
       "      <th>2054</th>\n",
       "      <td>18</td>\n",
       "      <td>10.0</td>\n",
       "      <td>Revisit</td>\n",
       "      <td>Graduation</td>\n",
       "      <td>Full Time</td>\n",
       "      <td>608</td>\n",
       "      <td>Mobile Web</td>\n",
       "      <td>30/04/22 18:09</td>\n",
       "      <td>19</td>\n",
       "      <td>5718.0</td>\n",
       "      <td>6</td>\n",
       "    </tr>\n",
       "    <tr>\n",
       "      <th>2055</th>\n",
       "      <td>195</td>\n",
       "      <td>4.0</td>\n",
       "      <td>Revisit</td>\n",
       "      <td>Graduation</td>\n",
       "      <td>Full Time</td>\n",
       "      <td>150</td>\n",
       "      <td>Mobile Web</td>\n",
       "      <td>30/04/22 20:06</td>\n",
       "      <td>18</td>\n",
       "      <td>5718.0</td>\n",
       "      <td>6</td>\n",
       "    </tr>\n",
       "    <tr>\n",
       "      <th>2056</th>\n",
       "      <td>195</td>\n",
       "      <td>4.0</td>\n",
       "      <td>Revisit</td>\n",
       "      <td>Graduation</td>\n",
       "      <td>Full Time</td>\n",
       "      <td>54</td>\n",
       "      <td>Mobile Web</td>\n",
       "      <td>30/04/22 22:03</td>\n",
       "      <td>13</td>\n",
       "      <td>5718.0</td>\n",
       "      <td>6</td>\n",
       "    </tr>\n",
       "  </tbody>\n",
       "</table>\n",
       "<p>2057 rows × 11 columns</p>\n",
       "</div>"
      ],
      "text/plain": [
       "      course_id  stream      action            level       mode  city_id  \\\n",
       "0            18    10.0     Revisit       Graduation  Full Time      253   \n",
       "1             6    18.0     Revisit       Graduation  Full Time      200   \n",
       "2            18    10.0     Revisit       Graduation  Full Time      471   \n",
       "3           195     4.0  auto_popup       Graduation  Full Time      125   \n",
       "4            15    13.0     Revisit       Graduation  Full Time       95   \n",
       "...         ...     ...         ...              ...        ...      ...   \n",
       "2052        120    13.0     Revisit  Post Graduation  Full Time      336   \n",
       "2053        195     4.0     Revisit       Graduation  Full Time      125   \n",
       "2054         18    10.0     Revisit       Graduation  Full Time      608   \n",
       "2055        195     4.0     Revisit       Graduation  Full Time      150   \n",
       "2056        195     4.0     Revisit       Graduation  Full Time       54   \n",
       "\n",
       "          source      created_on  from_page  single_course_id  lead_type  \n",
       "0     Mobile Web   01-03-22 8:17         13            5721.0          6  \n",
       "1     Mobile Web  01-03-22 10:26         13            5721.0          6  \n",
       "2     Mobile Web  01-03-22 10:43          7            5721.0          6  \n",
       "3        Desktop  01-03-22 11:15         18            5718.0          0  \n",
       "4        Desktop  01-03-22 11:27         13            5718.0          6  \n",
       "...          ...             ...        ...               ...        ...  \n",
       "2052  Mobile Web  30/04/22 16:10         18            5718.0          6  \n",
       "2053  Mobile Web  30/04/22 16:30         18            5718.0          6  \n",
       "2054  Mobile Web  30/04/22 18:09         19            5718.0          6  \n",
       "2055  Mobile Web  30/04/22 20:06         18            5718.0          6  \n",
       "2056  Mobile Web  30/04/22 22:03         13            5718.0          6  \n",
       "\n",
       "[2057 rows x 11 columns]"
      ]
     },
     "execution_count": 991,
     "metadata": {},
     "output_type": "execute_result"
    }
   ],
   "source": [
    "new_data"
   ]
  },
  {
   "cell_type": "code",
   "execution_count": 992,
   "id": "9567cf5d",
   "metadata": {},
   "outputs": [
    {
     "data": {
      "text/plain": [
       "array(['Revisit', 'auto_popup', 'Apply', 'Brochure', 'info',\n",
       "       'eligibility', 'AskQuestion', 'Apply Default', 'cutoff'],\n",
       "      dtype=object)"
      ]
     },
     "execution_count": 992,
     "metadata": {},
     "output_type": "execute_result"
    }
   ],
   "source": [
    "new_data['action'].unique()"
   ]
  },
  {
   "cell_type": "code",
   "execution_count": 993,
   "id": "c73e11c8",
   "metadata": {},
   "outputs": [],
   "source": [
    "# encoding catigorical variable"
   ]
  },
  {
   "cell_type": "code",
   "execution_count": 994,
   "id": "14075c83",
   "metadata": {},
   "outputs": [
    {
     "data": {
      "text/plain": [
       "array([4, 5, 0, 3, 8, 7, 2, 1, 6])"
      ]
     },
     "execution_count": 994,
     "metadata": {},
     "output_type": "execute_result"
    }
   ],
   "source": [
    "from sklearn import preprocessing\n",
    "  \n",
    "label_encoder = preprocessing.LabelEncoder()\n",
    "  \n",
    "new_data['action']= label_encoder.fit_transform(new_data['action'])\n",
    "  \n",
    "new_data['action'].unique()"
   ]
  },
  {
   "cell_type": "code",
   "execution_count": 995,
   "id": "129987ec",
   "metadata": {},
   "outputs": [
    {
     "data": {
      "text/plain": [
       "array(['Full Time', 'Distance'], dtype=object)"
      ]
     },
     "execution_count": 995,
     "metadata": {},
     "output_type": "execute_result"
    }
   ],
   "source": [
    "new_data['mode'].unique()"
   ]
  },
  {
   "cell_type": "code",
   "execution_count": 996,
   "id": "c502da47",
   "metadata": {},
   "outputs": [
    {
     "data": {
      "text/plain": [
       "array([1, 0])"
      ]
     },
     "execution_count": 996,
     "metadata": {},
     "output_type": "execute_result"
    }
   ],
   "source": [
    "from sklearn import preprocessing\n",
    "  \n",
    "label_encoder = preprocessing.LabelEncoder()\n",
    "  \n",
    "new_data['mode']= label_encoder.fit_transform(new_data['mode'])\n",
    "  \n",
    "new_data['mode'].unique()"
   ]
  },
  {
   "cell_type": "code",
   "execution_count": 997,
   "id": "e29abe5f",
   "metadata": {},
   "outputs": [
    {
     "data": {
      "text/plain": [
       "array([1, 0, 2, 3])"
      ]
     },
     "execution_count": 997,
     "metadata": {},
     "output_type": "execute_result"
    }
   ],
   "source": [
    "from sklearn import preprocessing\n",
    "  \n",
    "label_encoder = preprocessing.LabelEncoder()\n",
    "  \n",
    "new_data['source']= label_encoder.fit_transform(new_data['source'])\n",
    "  \n",
    "new_data['source'].unique()"
   ]
  },
  {
   "cell_type": "code",
   "execution_count": 998,
   "id": "0def7345",
   "metadata": {},
   "outputs": [
    {
     "data": {
      "text/plain": [
       "array([1, 2, 0])"
      ]
     },
     "execution_count": 998,
     "metadata": {},
     "output_type": "execute_result"
    }
   ],
   "source": [
    "from sklearn import preprocessing\n",
    "  \n",
    "label_encoder = preprocessing.LabelEncoder()\n",
    "  \n",
    "new_data['level']= label_encoder.fit_transform(new_data['level'])\n",
    "  \n",
    "new_data['level'].unique()"
   ]
  },
  {
   "cell_type": "code",
   "execution_count": 999,
   "id": "02496cd6",
   "metadata": {},
   "outputs": [],
   "source": [
    "new_data.drop(columns=['created_on'], inplace=True)"
   ]
  },
  {
   "cell_type": "code",
   "execution_count": 1000,
   "id": "596bdb2d",
   "metadata": {},
   "outputs": [
    {
     "data": {
      "text/plain": [
       "6    1257\n",
       "0     735\n",
       "2      39\n",
       "4      26\n",
       "Name: lead_type, dtype: int64"
      ]
     },
     "execution_count": 1000,
     "metadata": {},
     "output_type": "execute_result"
    }
   ],
   "source": [
    "new_data['lead_type'].value_counts()"
   ]
  },
  {
   "cell_type": "code",
   "execution_count": 1001,
   "id": "33da1eb2",
   "metadata": {},
   "outputs": [],
   "source": [
    "# I am assuming lead_type is output variable"
   ]
  },
  {
   "cell_type": "code",
   "execution_count": 1002,
   "id": "e410a3fd",
   "metadata": {},
   "outputs": [],
   "source": [
    "y = new_data['lead_type']"
   ]
  },
  {
   "cell_type": "code",
   "execution_count": 1003,
   "id": "feaf971d",
   "metadata": {},
   "outputs": [],
   "source": [
    "df = new_data.copy()"
   ]
  },
  {
   "cell_type": "code",
   "execution_count": 1004,
   "id": "9068c351",
   "metadata": {},
   "outputs": [],
   "source": [
    "df = df.drop(columns=['lead_type'])"
   ]
  },
  {
   "cell_type": "code",
   "execution_count": 1005,
   "id": "821295cc",
   "metadata": {},
   "outputs": [
    {
     "data": {
      "text/html": [
       "<div>\n",
       "<style scoped>\n",
       "    .dataframe tbody tr th:only-of-type {\n",
       "        vertical-align: middle;\n",
       "    }\n",
       "\n",
       "    .dataframe tbody tr th {\n",
       "        vertical-align: top;\n",
       "    }\n",
       "\n",
       "    .dataframe thead th {\n",
       "        text-align: right;\n",
       "    }\n",
       "</style>\n",
       "<table border=\"1\" class=\"dataframe\">\n",
       "  <thead>\n",
       "    <tr style=\"text-align: right;\">\n",
       "      <th></th>\n",
       "      <th>course_id</th>\n",
       "      <th>stream</th>\n",
       "      <th>action</th>\n",
       "      <th>level</th>\n",
       "      <th>mode</th>\n",
       "      <th>city_id</th>\n",
       "      <th>source</th>\n",
       "      <th>from_page</th>\n",
       "      <th>single_course_id</th>\n",
       "    </tr>\n",
       "  </thead>\n",
       "  <tbody>\n",
       "    <tr>\n",
       "      <th>0</th>\n",
       "      <td>18</td>\n",
       "      <td>10.0</td>\n",
       "      <td>4</td>\n",
       "      <td>1</td>\n",
       "      <td>1</td>\n",
       "      <td>253</td>\n",
       "      <td>1</td>\n",
       "      <td>13</td>\n",
       "      <td>5721.0</td>\n",
       "    </tr>\n",
       "    <tr>\n",
       "      <th>1</th>\n",
       "      <td>6</td>\n",
       "      <td>18.0</td>\n",
       "      <td>4</td>\n",
       "      <td>1</td>\n",
       "      <td>1</td>\n",
       "      <td>200</td>\n",
       "      <td>1</td>\n",
       "      <td>13</td>\n",
       "      <td>5721.0</td>\n",
       "    </tr>\n",
       "    <tr>\n",
       "      <th>2</th>\n",
       "      <td>18</td>\n",
       "      <td>10.0</td>\n",
       "      <td>4</td>\n",
       "      <td>1</td>\n",
       "      <td>1</td>\n",
       "      <td>471</td>\n",
       "      <td>1</td>\n",
       "      <td>7</td>\n",
       "      <td>5721.0</td>\n",
       "    </tr>\n",
       "    <tr>\n",
       "      <th>3</th>\n",
       "      <td>195</td>\n",
       "      <td>4.0</td>\n",
       "      <td>5</td>\n",
       "      <td>1</td>\n",
       "      <td>1</td>\n",
       "      <td>125</td>\n",
       "      <td>0</td>\n",
       "      <td>18</td>\n",
       "      <td>5718.0</td>\n",
       "    </tr>\n",
       "    <tr>\n",
       "      <th>4</th>\n",
       "      <td>15</td>\n",
       "      <td>13.0</td>\n",
       "      <td>4</td>\n",
       "      <td>1</td>\n",
       "      <td>1</td>\n",
       "      <td>95</td>\n",
       "      <td>0</td>\n",
       "      <td>13</td>\n",
       "      <td>5718.0</td>\n",
       "    </tr>\n",
       "    <tr>\n",
       "      <th>...</th>\n",
       "      <td>...</td>\n",
       "      <td>...</td>\n",
       "      <td>...</td>\n",
       "      <td>...</td>\n",
       "      <td>...</td>\n",
       "      <td>...</td>\n",
       "      <td>...</td>\n",
       "      <td>...</td>\n",
       "      <td>...</td>\n",
       "    </tr>\n",
       "    <tr>\n",
       "      <th>2052</th>\n",
       "      <td>120</td>\n",
       "      <td>13.0</td>\n",
       "      <td>4</td>\n",
       "      <td>2</td>\n",
       "      <td>1</td>\n",
       "      <td>336</td>\n",
       "      <td>1</td>\n",
       "      <td>18</td>\n",
       "      <td>5718.0</td>\n",
       "    </tr>\n",
       "    <tr>\n",
       "      <th>2053</th>\n",
       "      <td>195</td>\n",
       "      <td>4.0</td>\n",
       "      <td>4</td>\n",
       "      <td>1</td>\n",
       "      <td>1</td>\n",
       "      <td>125</td>\n",
       "      <td>1</td>\n",
       "      <td>18</td>\n",
       "      <td>5718.0</td>\n",
       "    </tr>\n",
       "    <tr>\n",
       "      <th>2054</th>\n",
       "      <td>18</td>\n",
       "      <td>10.0</td>\n",
       "      <td>4</td>\n",
       "      <td>1</td>\n",
       "      <td>1</td>\n",
       "      <td>608</td>\n",
       "      <td>1</td>\n",
       "      <td>19</td>\n",
       "      <td>5718.0</td>\n",
       "    </tr>\n",
       "    <tr>\n",
       "      <th>2055</th>\n",
       "      <td>195</td>\n",
       "      <td>4.0</td>\n",
       "      <td>4</td>\n",
       "      <td>1</td>\n",
       "      <td>1</td>\n",
       "      <td>150</td>\n",
       "      <td>1</td>\n",
       "      <td>18</td>\n",
       "      <td>5718.0</td>\n",
       "    </tr>\n",
       "    <tr>\n",
       "      <th>2056</th>\n",
       "      <td>195</td>\n",
       "      <td>4.0</td>\n",
       "      <td>4</td>\n",
       "      <td>1</td>\n",
       "      <td>1</td>\n",
       "      <td>54</td>\n",
       "      <td>1</td>\n",
       "      <td>13</td>\n",
       "      <td>5718.0</td>\n",
       "    </tr>\n",
       "  </tbody>\n",
       "</table>\n",
       "<p>2057 rows × 9 columns</p>\n",
       "</div>"
      ],
      "text/plain": [
       "      course_id  stream  action  level  mode  city_id  source  from_page  \\\n",
       "0            18    10.0       4      1     1      253       1         13   \n",
       "1             6    18.0       4      1     1      200       1         13   \n",
       "2            18    10.0       4      1     1      471       1          7   \n",
       "3           195     4.0       5      1     1      125       0         18   \n",
       "4            15    13.0       4      1     1       95       0         13   \n",
       "...         ...     ...     ...    ...   ...      ...     ...        ...   \n",
       "2052        120    13.0       4      2     1      336       1         18   \n",
       "2053        195     4.0       4      1     1      125       1         18   \n",
       "2054         18    10.0       4      1     1      608       1         19   \n",
       "2055        195     4.0       4      1     1      150       1         18   \n",
       "2056        195     4.0       4      1     1       54       1         13   \n",
       "\n",
       "      single_course_id  \n",
       "0               5721.0  \n",
       "1               5721.0  \n",
       "2               5721.0  \n",
       "3               5718.0  \n",
       "4               5718.0  \n",
       "...                ...  \n",
       "2052            5718.0  \n",
       "2053            5718.0  \n",
       "2054            5718.0  \n",
       "2055            5718.0  \n",
       "2056            5718.0  \n",
       "\n",
       "[2057 rows x 9 columns]"
      ]
     },
     "execution_count": 1005,
     "metadata": {},
     "output_type": "execute_result"
    }
   ],
   "source": [
    "df"
   ]
  },
  {
   "cell_type": "code",
   "execution_count": 1006,
   "id": "a49e5531",
   "metadata": {},
   "outputs": [
    {
     "data": {
      "text/plain": [
       "<seaborn.axisgrid.FacetGrid at 0x1d68b133070>"
      ]
     },
     "execution_count": 1006,
     "metadata": {},
     "output_type": "execute_result"
    },
    {
     "data": {
      "image/png": "[encoded data removed]",
      "text/plain": [
       "<Figure size 360x360 with 1 Axes>"
      ]
     },
     "metadata": {
      "needs_background": "light"
     },
     "output_type": "display_data"
    }
   ],
   "source": [
    "sns.displot(df['course_id'])"
   ]
  },
  {
   "cell_type": "code",
   "execution_count": 1007,
   "id": "2f6b9f63",
   "metadata": {},
   "outputs": [
    {
     "data": {
      "text/plain": [
       "<seaborn.axisgrid.FacetGrid at 0x1d68b139a90>"
      ]
     },
     "execution_count": 1007,
     "metadata": {},
     "output_type": "execute_result"
    },
    {
     "data": {
      "image/png": "[encoded data removed]",
      "text/plain": [
       "<Figure size 360x360 with 1 Axes>"
      ]
     },
     "metadata": {
      "needs_background": "light"
     },
     "output_type": "display_data"
    }
   ],
   "source": [
    "sns.displot(df['single_course_id'])"
   ]
  },
  {
   "cell_type": "code",
   "execution_count": 1008,
   "id": "88b59411",
   "metadata": {},
   "outputs": [
    {
     "data": {
      "text/plain": [
       "Index(['course_id', 'stream', 'action', 'level', 'mode', 'city_id', 'source',\n",
       "       'from_page', 'single_course_id'],\n",
       "      dtype='object')"
      ]
     },
     "execution_count": 1008,
     "metadata": {},
     "output_type": "execute_result"
    }
   ],
   "source": [
    "df.columns"
   ]
  },
  {
   "cell_type": "code",
   "execution_count": 1009,
   "id": "e1530097",
   "metadata": {},
   "outputs": [],
   "source": [
    "from sklearn.ensemble import RandomForestClassifier\n",
    "from sklearn.model_selection import train_test_split"
   ]
  },
  {
   "cell_type": "code",
   "execution_count": 1010,
   "id": "f9235fa4",
   "metadata": {},
   "outputs": [],
   "source": [
    "x_train, x_test, y_train, y_test = train_test_split(df, y, test_size=0.3, random_state=101)"
   ]
  },
  {
   "cell_type": "code",
   "execution_count": 1011,
   "id": "139a467b",
   "metadata": {},
   "outputs": [],
   "source": [
    "rf = RandomForestClassifier(n_estimators=400, random_state=101, verbose=4)"
   ]
  },
  {
   "cell_type": "code",
   "execution_count": 1012,
   "id": "aefcd5ea",
   "metadata": {},
   "outputs": [
    {
     "name": "stderr",
     "output_type": "stream",
     "text": [
      "[Parallel(n_jobs=1)]: Using backend SequentialBackend with 1 concurrent workers.\n",
      "[Parallel(n_jobs=1)]: Done   1 out of   1 | elapsed:    0.0s remaining:    0.0s\n",
      "[Parallel(n_jobs=1)]: Done   2 out of   2 | elapsed:    0.0s remaining:    0.0s\n",
      "[Parallel(n_jobs=1)]: Done   3 out of   3 | elapsed:    0.0s remaining:    0.0s\n"
     ]
    },
    {
     "name": "stdout",
     "output_type": "stream",
     "text": [
      "building tree 1 of 400\n",
      "building tree 2 of 400\n",
      "building tree 3 of 400\n",
      "building tree 4 of 400\n",
      "building tree 5 of 400\n",
      "building tree 6 of 400\n",
      "building tree 7 of 400\n",
      "building tree 8 of 400\n",
      "building tree 9 of 400\n",
      "building tree 10 of 400\n",
      "building tree 11 of 400\n",
      "building tree 12 of 400\n",
      "building tree 13 of 400\n",
      "building tree 14 of 400\n",
      "building tree 15 of 400\n",
      "building tree 16 of 400\n",
      "building tree 17 of 400\n",
      "building tree 18 of 400\n",
      "building tree 19 of 400\n",
      "building tree 20 of 400\n",
      "building tree 21 of 400\n",
      "building tree 22 of 400\n",
      "building tree 23 of 400\n",
      "building tree 24 of 400\n",
      "building tree 25 of 400\n",
      "building tree 26 of 400\n",
      "building tree 27 of 400\n",
      "building tree 28 of 400\n",
      "building tree 29 of 400\n",
      "building tree 30 of 400\n",
      "building tree 31 of 400\n",
      "building tree 32 of 400\n",
      "building tree 33 of 400\n",
      "building tree 34 of 400\n",
      "building tree 35 of 400\n",
      "building tree 36 of 400\n",
      "building tree 37 of 400\n",
      "building tree 38 of 400\n",
      "building tree 39 of 400\n",
      "building tree 40 of 400\n",
      "building tree 41 of 400\n",
      "building tree 42 of 400\n",
      "building tree 43 of 400\n",
      "building tree 44 of 400\n",
      "building tree 45 of 400\n",
      "building tree 46 of 400\n",
      "building tree 47 of 400\n",
      "building tree 48 of 400\n",
      "building tree 49 of 400\n",
      "building tree 50 of 400\n",
      "building tree 51 of 400\n",
      "building tree 52 of 400\n",
      "building tree 53 of 400\n",
      "building tree 54 of 400\n",
      "building tree 55 of 400\n",
      "building tree 56 of 400\n",
      "building tree 57 of 400\n",
      "building tree 58 of 400\n",
      "building tree 59 of 400\n",
      "building tree 60 of 400\n",
      "building tree 61 of 400\n",
      "building tree 62 of 400\n",
      "building tree 63 of 400\n",
      "building tree 64 of 400\n",
      "building tree 65 of 400\n",
      "building tree 66 of 400\n",
      "building tree 67 of 400\n",
      "building tree 68 of 400\n",
      "building tree 69 of 400\n",
      "building tree 70 of 400\n",
      "building tree 71 of 400\n",
      "building tree 72 of 400\n",
      "building tree 73 of 400\n",
      "building tree 74 of 400\n",
      "building tree 75 of 400\n",
      "building tree 76 of 400\n",
      "building tree 77 of 400\n",
      "building tree 78 of 400\n",
      "building tree 79 of 400\n",
      "building tree 80 of 400\n",
      "building tree 81 of 400\n",
      "building tree 82 of 400\n",
      "building tree 83 of 400\n",
      "building tree 84 of 400\n",
      "building tree 85 of 400\n",
      "building tree 86 of 400\n",
      "building tree 87 of 400\n",
      "building tree 88 of 400\n",
      "building tree 89 of 400\n",
      "building tree 90 of 400\n",
      "building tree 91 of 400\n",
      "building tree 92 of 400\n",
      "building tree 93 of 400\n",
      "building tree 94 of 400\n",
      "building tree 95 of 400\n",
      "building tree 96 of 400\n",
      "building tree 97 of 400\n",
      "building tree 98 of 400\n",
      "building tree 99 of 400\n",
      "building tree 100 of 400\n",
      "building tree 101 of 400\n",
      "building tree 102 of 400\n",
      "building tree 103 of 400\n",
      "building tree 104 of 400\n",
      "building tree 105 of 400\n",
      "building tree 106 of 400\n",
      "building tree 107 of 400\n",
      "building tree 108 of 400\n",
      "building tree 109 of 400\n",
      "building tree 110 of 400\n",
      "building tree 111 of 400\n",
      "building tree 112 of 400\n",
      "building tree 113 of 400\n",
      "building tree 114 of 400\n",
      "building tree 115 of 400\n",
      "building tree 116 of 400\n",
      "building tree 117 of 400\n",
      "building tree 118 of 400\n",
      "building tree 119 of 400\n",
      "building tree 120 of 400\n",
      "building tree 121 of 400\n",
      "building tree 122 of 400\n",
      "building tree 123 of 400\n",
      "building tree 124 of 400\n",
      "building tree 125 of 400\n",
      "building tree 126 of 400\n",
      "building tree 127 of 400\n",
      "building tree 128 of 400\n",
      "building tree 129 of 400\n",
      "building tree 130 of 400\n",
      "building tree 131 of 400\n",
      "building tree 132 of 400\n",
      "building tree 133 of 400\n",
      "building tree 134 of 400\n",
      "building tree 135 of 400\n",
      "building tree 136 of 400\n",
      "building tree 137 of 400\n",
      "building tree 138 of 400\n",
      "building tree 139 of 400\n",
      "building tree 140 of 400\n",
      "building tree 141 of 400\n",
      "building tree 142 of 400\n",
      "building tree 143 of 400\n",
      "building tree 144 of 400\n",
      "building tree 145 of 400\n",
      "building tree 146 of 400\n",
      "building tree 147 of 400\n",
      "building tree 148 of 400\n",
      "building tree 149 of 400\n",
      "building tree 150 of 400\n",
      "building tree 151 of 400\n",
      "building tree 152 of 400\n",
      "building tree 153 of 400\n",
      "building tree 154 of 400\n",
      "building tree 155 of 400\n",
      "building tree 156 of 400\n",
      "building tree 157 of 400\n",
      "building tree 158 of 400\n",
      "building tree 159 of 400\n",
      "building tree 160 of 400\n",
      "building tree 161 of 400\n",
      "building tree 162 of 400\n",
      "building tree 163 of 400\n",
      "building tree 164 of 400\n",
      "building tree 165 of 400\n",
      "building tree 166 of 400\n",
      "building tree 167 of 400\n",
      "building tree 168 of 400\n",
      "building tree 169 of 400\n",
      "building tree 170 of 400\n",
      "building tree 171 of 400\n",
      "building tree 172 of 400\n",
      "building tree 173 of 400\n",
      "building tree 174 of 400\n",
      "building tree 175 of 400\n",
      "building tree 176 of 400\n",
      "building tree 177 of 400\n",
      "building tree 178 of 400\n",
      "building tree 179 of 400\n",
      "building tree 180 of 400\n",
      "building tree 181 of 400\n",
      "building tree 182 of 400\n",
      "building tree 183 of 400\n",
      "building tree 184 of 400\n",
      "building tree 185 of 400\n",
      "building tree 186 of 400\n",
      "building tree 187 of 400\n",
      "building tree 188 of 400\n",
      "building tree 189 of 400\n",
      "building tree 190 of 400\n",
      "building tree 191 of 400\n",
      "building tree 192 of 400\n",
      "building tree 193 of 400\n",
      "building tree 194 of 400\n",
      "building tree 195 of 400\n",
      "building tree 196 of 400\n",
      "building tree 197 of 400\n",
      "building tree 198 of 400\n",
      "building tree 199 of 400\n",
      "building tree 200 of 400\n",
      "building tree 201 of 400\n",
      "building tree 202 of 400\n",
      "building tree 203 of 400\n",
      "building tree 204 of 400\n",
      "building tree 205 of 400\n",
      "building tree 206 of 400\n",
      "building tree 207 of 400\n",
      "building tree 208 of 400\n",
      "building tree 209 of 400\n",
      "building tree 210 of 400\n",
      "building tree 211 of 400\n",
      "building tree 212 of 400\n",
      "building tree 213 of 400\n",
      "building tree 214 of 400\n",
      "building tree 215 of 400\n",
      "building tree 216 of 400\n",
      "building tree 217 of 400\n",
      "building tree 218 of 400\n",
      "building tree 219 of 400\n",
      "building tree 220 of 400\n",
      "building tree 221 of 400\n",
      "building tree 222 of 400\n",
      "building tree 223 of 400\n",
      "building tree 224 of 400\n",
      "building tree 225 of 400\n",
      "building tree 226 of 400\n",
      "building tree 227 of 400\n",
      "building tree 228 of 400\n",
      "building tree 229 of 400\n",
      "building tree 230 of 400\n",
      "building tree 231 of 400\n",
      "building tree 232 of 400\n",
      "building tree 233 of 400\n",
      "building tree 234 of 400\n",
      "building tree 235 of 400\n",
      "building tree 236 of 400\n",
      "building tree 237 of 400\n",
      "building tree 238 of 400\n",
      "building tree 239 of 400\n",
      "building tree 240 of 400\n",
      "building tree 241 of 400\n",
      "building tree 242 of 400\n",
      "building tree 243 of 400\n",
      "building tree 244 of 400\n",
      "building tree 245 of 400\n",
      "building tree 246 of 400\n",
      "building tree 247 of 400\n",
      "building tree 248 of 400\n",
      "building tree 249 of 400\n",
      "building tree 250 of 400\n",
      "building tree 251 of 400\n",
      "building tree 252 of 400\n",
      "building tree 253 of 400\n",
      "building tree 254 of 400\n",
      "building tree 255 of 400\n",
      "building tree 256 of 400\n",
      "building tree 257 of 400\n",
      "building tree 258 of 400\n",
      "building tree 259 of 400\n",
      "building tree 260 of 400\n",
      "building tree 261 of 400\n",
      "building tree 262 of 400\n",
      "building tree 263 of 400\n",
      "building tree 264 of 400\n",
      "building tree 265 of 400\n",
      "building tree 266 of 400\n",
      "building tree 267 of 400\n",
      "building tree 268 of 400\n",
      "building tree 269 of 400\n",
      "building tree 270 of 400\n",
      "building tree 271 of 400\n",
      "building tree 272 of 400\n",
      "building tree 273 of 400\n",
      "building tree 274 of 400\n",
      "building tree 275 of 400\n",
      "building tree 276 of 400\n",
      "building tree 277 of 400\n",
      "building tree 278 of 400\n",
      "building tree 279 of 400\n",
      "building tree 280 of 400\n",
      "building tree 281 of 400\n",
      "building tree 282 of 400\n",
      "building tree 283 of 400\n",
      "building tree 284 of 400\n",
      "building tree 285 of 400\n",
      "building tree 286 of 400\n",
      "building tree 287 of 400\n",
      "building tree 288 of 400\n",
      "building tree 289 of 400\n",
      "building tree 290 of 400\n",
      "building tree 291 of 400\n",
      "building tree 292 of 400\n",
      "building tree 293 of 400\n",
      "building tree 294 of 400\n",
      "building tree 295 of 400\n",
      "building tree 296 of 400\n",
      "building tree 297 of 400\n",
      "building tree 298 of 400\n",
      "building tree 299 of 400\n",
      "building tree 300 of 400\n",
      "building tree 301 of 400\n",
      "building tree 302 of 400\n",
      "building tree 303 of 400\n",
      "building tree 304 of 400\n",
      "building tree 305 of 400\n",
      "building tree 306 of 400\n",
      "building tree 307 of 400\n",
      "building tree 308 of 400\n",
      "building tree 309 of 400\n",
      "building tree 310 of 400\n",
      "building tree 311 of 400\n",
      "building tree 312 of 400\n",
      "building tree 313 of 400\n",
      "building tree 314 of 400\n",
      "building tree 315 of 400\n",
      "building tree 316 of 400\n",
      "building tree 317 of 400\n",
      "building tree 318 of 400\n",
      "building tree 319 of 400\n",
      "building tree 320 of 400\n",
      "building tree 321 of 400\n",
      "building tree 322 of 400\n",
      "building tree 323 of 400\n",
      "building tree 324 of 400\n",
      "building tree 325 of 400\n",
      "building tree 326 of 400\n",
      "building tree 327 of 400\n",
      "building tree 328 of 400\n",
      "building tree 329 of 400\n",
      "building tree 330 of 400\n",
      "building tree 331 of 400\n",
      "building tree 332 of 400\n",
      "building tree 333 of 400\n",
      "building tree 334 of 400\n",
      "building tree 335 of 400\n",
      "building tree 336 of 400\n",
      "building tree 337 of 400\n",
      "building tree 338 of 400\n",
      "building tree 339 of 400\n",
      "building tree 340 of 400\n",
      "building tree 341 of 400\n",
      "building tree 342 of 400\n",
      "building tree 343 of 400\n",
      "building tree 344 of 400\n",
      "building tree 345 of 400\n",
      "building tree 346 of 400\n",
      "building tree 347 of 400\n",
      "building tree 348 of 400\n",
      "building tree 349 of 400\n",
      "building tree 350 of 400\n",
      "building tree 351 of 400\n",
      "building tree 352 of 400\n",
      "building tree 353 of 400\n",
      "building tree 354 of 400\n",
      "building tree 355 of 400\n",
      "building tree 356 of 400\n",
      "building tree 357 of 400\n",
      "building tree 358 of 400\n",
      "building tree 359 of 400\n",
      "building tree 360 of 400\n",
      "building tree 361 of 400\n",
      "building tree 362 of 400\n",
      "building tree 363 of 400\n",
      "building tree 364 of 400\n",
      "building tree 365 of 400\n",
      "building tree 366 of 400\n",
      "building tree 367 of 400\n",
      "building tree 368 of 400\n",
      "building tree 369 of 400\n",
      "building tree 370 of 400\n",
      "building tree 371 of 400\n",
      "building tree 372 of 400\n",
      "building tree 373 of 400\n",
      "building tree 374 of 400\n",
      "building tree 375 of 400\n",
      "building tree 376 of 400\n",
      "building tree 377 of 400\n",
      "building tree 378 of 400\n",
      "building tree 379 of 400\n",
      "building tree 380 of 400\n",
      "building tree 381 of 400\n",
      "building tree 382 of 400\n",
      "building tree 383 of 400\n",
      "building tree 384 of 400\n",
      "building tree 385 of 400\n",
      "building tree 386 of 400\n",
      "building tree 387 of 400\n",
      "building tree 388 of 400\n",
      "building tree 389 of 400\n",
      "building tree 390 of 400\n",
      "building tree 391 of 400\n",
      "building tree 392 of 400\n",
      "building tree 393 of 400\n",
      "building tree 394 of 400\n",
      "building tree 395 of 400\n",
      "building tree 396 of 400\n",
      "building tree 397 of 400\n",
      "building tree 398 of 400\n",
      "building tree 399 of 400\n",
      "building tree 400 of 400\n"
     ]
    },
    {
     "name": "stderr",
     "output_type": "stream",
     "text": [
      "[Parallel(n_jobs=1)]: Done 400 out of 400 | elapsed:    0.4s finished\n"
     ]
    },
    {
     "data": {
      "text/plain": [
       "RandomForestClassifier(n_estimators=400, random_state=101, verbose=4)"
      ]
     },
     "execution_count": 1012,
     "metadata": {},
     "output_type": "execute_result"
    }
   ],
   "source": [
    "rf.fit(x_train, y_train)"
   ]
  },
  {
   "cell_type": "code",
   "execution_count": 1013,
   "id": "abcf1104",
   "metadata": {},
   "outputs": [
    {
     "name": "stderr",
     "output_type": "stream",
     "text": [
      "[Parallel(n_jobs=1)]: Using backend SequentialBackend with 1 concurrent workers.\n",
      "[Parallel(n_jobs=1)]: Done   1 out of   1 | elapsed:    0.0s remaining:    0.0s\n",
      "[Parallel(n_jobs=1)]: Done   2 out of   2 | elapsed:    0.0s remaining:    0.0s\n",
      "[Parallel(n_jobs=1)]: Done   3 out of   3 | elapsed:    0.0s remaining:    0.0s\n",
      "[Parallel(n_jobs=1)]: Done 400 out of 400 | elapsed:    0.0s finished\n"
     ]
    }
   ],
   "source": [
    "y_pred = rf.predict(x_test)"
   ]
  },
  {
   "cell_type": "code",
   "execution_count": 1014,
   "id": "74249db0",
   "metadata": {},
   "outputs": [],
   "source": [
    "from sklearn.metrics import classification_report, confusion_matrix, accuracy_score"
   ]
  },
  {
   "cell_type": "code",
   "execution_count": 1015,
   "id": "a1002cbe",
   "metadata": {},
   "outputs": [
    {
     "name": "stdout",
     "output_type": "stream",
     "text": [
      "              precision    recall  f1-score   support\n",
      "\n",
      "           0       1.00      1.00      1.00       208\n",
      "           2       1.00      1.00      1.00        10\n",
      "           4       0.86      1.00      0.92         6\n",
      "           6       1.00      1.00      1.00       394\n",
      "\n",
      "    accuracy                           1.00       618\n",
      "   macro avg       0.96      1.00      0.98       618\n",
      "weighted avg       1.00      1.00      1.00       618\n",
      "\n"
     ]
    }
   ],
   "source": [
    "print(classification_report(y_test, y_pred))"
   ]
  },
  {
   "cell_type": "code",
   "execution_count": 1016,
   "id": "b5b4d309",
   "metadata": {},
   "outputs": [
    {
     "name": "stdout",
     "output_type": "stream",
     "text": [
      "0.9983818770226537\n"
     ]
    }
   ],
   "source": [
    "print(accuracy_score(y_test, y_pred))"
   ]
  },
  {
   "cell_type": "code",
   "execution_count": 1017,
   "id": "bdf2c8b4",
   "metadata": {},
   "outputs": [
    {
     "data": {
      "text/plain": [
       "array([0, 6, 2, 4], dtype=int64)"
      ]
     },
     "execution_count": 1017,
     "metadata": {},
     "output_type": "execute_result"
    }
   ],
   "source": [
    "pd.Series(y_pred).unique()"
   ]
  },
  {
   "cell_type": "code",
   "execution_count": 1035,
   "id": "8042d9e7",
   "metadata": {},
   "outputs": [
    {
     "data": {
      "text/plain": [
       "<Figure size 720x720 with 0 Axes>"
      ]
     },
     "metadata": {},
     "output_type": "display_data"
    },
    {
     "data": {
      "image/png": "[encoded data removed]",
      "text/plain": [
       "<Figure size 360x360 with 1 Axes>"
      ]
     },
     "metadata": {
      "needs_background": "light"
     },
     "output_type": "display_data"
    },
    {
     "data": {
      "image/png": "[encoded data removed]",
      "text/plain": [
       "<Figure size 360x360 with 1 Axes>"
      ]
     },
     "metadata": {
      "needs_background": "light"
     },
     "output_type": "display_data"
    },
    {
     "data": {
      "image/png": "[encoded data removed]",
      "text/plain": [
       "<Figure size 360x360 with 1 Axes>"
      ]
     },
     "metadata": {
      "needs_background": "light"
     },
     "output_type": "display_data"
    },
    {
     "data": {
      "image/png": "[encoded data removed]",
      "text/plain": [
       "<Figure size 360x360 with 1 Axes>"
      ]
     },
     "metadata": {
      "needs_background": "light"
     },
     "output_type": "display_data"
    },
    {
     "data": {
      "image/png": "[encoded data removed]",
      "text/plain": [
       "<Figure size 360x360 with 1 Axes>"
      ]
     },
     "metadata": {
      "needs_background": "light"
     },
     "output_type": "display_data"
    },
    {
     "data": {
      "image/png": "[encoded data removed]",
      "text/plain": [
       "<Figure size 360x360 with 1 Axes>"
      ]
     },
     "metadata": {
      "needs_background": "light"
     },
     "output_type": "display_data"
    },
    {
     "data": {
      "image/png": "[encoded data removed]",
      "text/plain": [
       "<Figure size 360x360 with 1 Axes>"
      ]
     },
     "metadata": {
      "needs_background": "light"
     },
     "output_type": "display_data"
    },
    {
     "data": {
      "image/png": "[encoded data removed]",
      "text/plain": [
       "<Figure size 360x360 with 1 Axes>"
      ]
     },
     "metadata": {
      "needs_background": "light"
     },
     "output_type": "display_data"
    },
    {
     "data": {
      "image/png": "[encoded data removed]",
      "text/plain": [
       "<Figure size 360x360 with 1 Axes>"
      ]
     },
     "metadata": {
      "needs_background": "light"
     },
     "output_type": "display_data"
    },
    {
     "data": {
      "image/png": "[encoded data removed]",
      "text/plain": [
       "<Figure size 360x360 with 1 Axes>"
      ]
     },
     "metadata": {
      "needs_background": "light"
     },
     "output_type": "display_data"
    }
   ],
   "source": [
    "plt.figure(figsize=(10,10))\n",
    "\n",
    "for col in new_data.columns:\n",
    "    sns.displot(new_data[col], kind='kde')\n",
    "    plt.grid()\n",
    "    \n",
    "plt.show()"
   ]
  },
  {
   "cell_type": "code",
   "execution_count": null,
   "id": "61b5d400",
   "metadata": {},
   "outputs": [],
   "source": []
  },
  {
   "cell_type": "code",
   "execution_count": null,
   "id": "d6425753",
   "metadata": {},
   "outputs": [],
   "source": []
  },
  {
   "cell_type": "code",
   "execution_count": null,
   "id": "d7903ff4",
   "metadata": {},
   "outputs": [],
   "source": []
  }
 ],
 "metadata": {
  "kernelspec": {
   "display_name": "Python 3",
   "language": "python",
   "name": "python3"
  },
  "language_info": {
   "codemirror_mode": {
    "name": "ipython",
    "version": 3
   },
   "file_extension": ".py",
   "mimetype": "text/x-python",
   "name": "python",
   "nbconvert_exporter": "python",
   "pygments_lexer": "ipython3",
   "version": "3.8.10"
  }
 },
 "nbformat": 4,
 "nbformat_minor": 5
}
